{
  "nbformat": 4,
  "nbformat_minor": 0,
  "metadata": {
    "colab": {
      "provenance": [],
      "collapsed_sections": [
        "WsKDuMexP6p5",
        "QVFSXkqiQvSi",
        "sPmzaCsTUjMB",
        "RHMQbIsYWAFa",
        "_QFEdJkFVQEs",
        "KwvlXaXEWap1",
        "YV0jwoA8XV-W",
        "mHQgQcE8cPsL",
        "6PE508bwkgDI"
      ]
    },
    "kernelspec": {
      "name": "python3",
      "display_name": "Python 3"
    },
    "language_info": {
      "name": "python"
    }
  },
  "cells": [
    {
      "cell_type": "markdown",
      "source": [
        "# **Python libraries**"
      ],
      "metadata": {
        "id": "bzUIsmrU70si"
      }
    },
    {
      "cell_type": "code",
      "source": [
        "# !pip install datawig\n",
        "# !pip install markdown\n",
        "# !pip install tabulate"
      ],
      "metadata": {
        "id": "qf13MVJ9lhrf"
      },
      "execution_count": null,
      "outputs": []
    },
    {
      "cell_type": "code",
      "execution_count": null,
      "metadata": {
        "id": "A7xDf6TseIOU"
      },
      "outputs": [],
      "source": [
        "import pandas as pd\n",
        "import numpy as np\n",
        "import matplotlib.pyplot as plt\n",
        "import seaborn as sns\n",
        "import markdown \n",
        "from tabulate import tabulate\n",
        "sns.set() \n",
        "from prettytable import PrettyTable\n",
        "from collections import Counter\n",
        "import scipy\n",
        "import warnings\n",
        "warnings.filterwarnings(\"ignore\")\n",
        "from sklearn.neighbors import LocalOutlierFactor, KNeighborsClassifier\n",
        "from sklearn.model_selection import train_test_split\n",
        "from sklearn.metrics import classification_report, confusion_matrix, accuracy_score, roc_auc_score, precision_recall_fscore_support, roc_curve, f1_score\n",
        "from sklearn.preprocessing import StandardScaler\n",
        "from sklearn.tree import  DecisionTreeClassifier\n",
        "from sklearn.neural_network import MLPClassifier\n",
        "from sklearn.model_selection import cross_val_score, cross_validate\n",
        "from sklearn.ensemble import RandomForestClassifier, GradientBoostingClassifier\n",
        "from sklearn.linear_model import LogisticRegression\n",
        "from imblearn.under_sampling import RandomUnderSampler\n",
        "from imblearn.over_sampling import RandomOverSampler\n",
        "from imblearn.over_sampling import SMOTE\n",
        "from sklearn.model_selection import GridSearchCV\n"
      ]
    },
    {
      "cell_type": "markdown",
      "source": [
        "# **Load Data**"
      ],
      "metadata": {
        "id": "V2VNs-uH8HWZ"
      }
    },
    {
      "cell_type": "code",
      "source": [
        "# loading original data into dataframe and check shape\n",
        "diabetic_data = pd.read_csv('/content/diabetic_data.csv')\n",
        "print(diabetic_data.shape)\n",
        "# make a copy of the dataframe for preprocessing\n",
        "df = diabetic_data.copy(deep=True)"
      ],
      "metadata": {
        "id": "h7n57Wsd7Lcr",
        "colab": {
          "base_uri": "https://localhost:8080/"
        },
        "outputId": "4324032f-4261-44e4-bb71-dadf8d38be80"
      },
      "execution_count": null,
      "outputs": [
        {
          "output_type": "stream",
          "name": "stdout",
          "text": [
            "(101766, 50)\n"
          ]
        }
      ]
    },
    {
      "cell_type": "markdown",
      "source": [
        "#**Dataset Information**"
      ],
      "metadata": {
        "id": "rgi1Uz1OdmbJ"
      }
    },
    {
      "cell_type": "markdown",
      "source": [
        "##**Features infomation**\n"
      ],
      "metadata": {
        "id": "E0fNo46h2HU0"
      }
    },
    {
      "cell_type": "markdown",
      "source": [
        "####**Patient identifiers**\n",
        "\n",
        "**encounter_id** — A unique identifier for each admission\n",
        "\n",
        "**patient_nbr** — Unique identifier for each patient"
      ],
      "metadata": {
        "id": "WsKDuMexP6p5"
      }
    },
    {
      "cell_type": "markdown",
      "source": [
        "####**Patient demographics**\n",
        "\n",
        "**race, gender, ‘age, weight** — Basic demographic information associated with each patient\n",
        "\n",
        "**payer_code**— Identifies which health insurance (Blue Cross / Blue Shield, Medicare and self-pay) the patient holds"
      ],
      "metadata": {
        "id": "QVFSXkqiQvSi"
      }
    },
    {
      "cell_type": "markdown",
      "source": [
        "###**Patient Medical History**\n",
        "**number_outpatient** — Number of outpatient visits by the patient in the year prior to the current encounter\n",
        "\n",
        "**number_inpatient** — Number of inpatient visits by the patient in the year prior to the current encounter\n",
        "\n",
        "**number_emergency** — Number of emergency visits by the patient in the year prior to the current encounter"
      ],
      "metadata": {
        "id": "sPmzaCsTUjMB"
      }
    },
    {
      "cell_type": "markdown",
      "source": [
        "###**Clinical Results**\n",
        "**max_glu_serum** — Indicates the results of the glucose serum test\n",
        "\n",
        "**A1cresult** — Indicates results of the A1C test\n"
      ],
      "metadata": {
        "id": "RHMQbIsYWAFa"
      }
    },
    {
      "cell_type": "markdown",
      "source": [
        "###**Patient Admission Details**\n",
        "**medical_speacialty** — Identifies the specialty of the physician admitting the patient (cardiology, internal medicine, family/general practice, etc.)\n",
        "\n",
        "**diag_1, diag_2 and diag_3** — ICD9 codes for the primary, secondary and tertiary diagnoses of the patient\n",
        "\n",
        "**time_in_hospital** — Number of days between admission and discharge for the patient\n",
        "\n",
        "**number_diagnoses** — Total number of diagnoses entered for the patient\n",
        "\n",
        "**num_lab_procedures** — Number of lab procedures performed in the current encounter\n",
        "**num_procedures** — Number of non-lab procedures performed in the current encounter\n",
        "\n",
        "**num_medications** — Number of distinct medications performed in the current encounter"
      ],
      "metadata": {
        "id": "_QFEdJkFVQEs"
      }
    },
    {
      "cell_type": "markdown",
      "source": [
        "###**Medication Details**\n",
        "\n",
        "**diabetesMed** — Indicates if any diabetes medication was prescribed\n",
        "\n",
        "**change** — Indicates if there was a change in diabetic medications\n",
        "\n",
        "**medications** — 24 features for medications that Indicates whether the dosage for the medicines was changed in any manner during the encounter. For the generic names: metformin, repaglinide, nateglinide, chlorpropamide, glimepiride, acetohexamide, glipizide, glyburide, tolbutamide, pioglitazone, rosiglitazone, acarbose, miglitol, troglitazone, tolazamide, examide, sitagliptin, insulin, glyburide-metformin, glipizide-metformin, glimepiride-pioglitazone, metformin-rosiglitazone, and metformin-pioglitazone, the feature indicates whether the drug was prescribed or there was a change in the dosage. Values: “up” if the dosage was increased during the encounter, “down” if the dosage was decreased, “steady” if the dosage did not change, and “no” if the drug was not prescribed"
      ],
      "metadata": {
        "id": "KwvlXaXEWap1"
      }
    },
    {
      "cell_type": "markdown",
      "source": [
        "###**Admission and Discharge details**\n",
        "**admission_type_id , admission_source_id**  - identify and what type of admission this was (emergency, urgent, elective, etc.)\n",
        "\n",
        "and who referred the patient to the hospital (physical referral, emergency room, transfer from a hospital, etc.) and what type of admission this was (emergency, urgent, elective, etc.)\n",
        "\n",
        "**discharge_disposition_id** identifies where the patient was discharge to after treatment (discharged to home, expired, etc.)\n"
      ],
      "metadata": {
        "id": "PcbQvqTaRh7E"
      }
    },
    {
      "cell_type": "code",
      "source": [
        "#@title\n",
        "admission_data = {1:\"Emergency\",\n",
        "2:\"Urgent\",\n",
        "3:\"Elective\",\n",
        "4:\"Newborn\",\n",
        "5:\"Not Available\",\n",
        "6:\"NULL\",\n",
        "7:\"Trauma Center\",\n",
        "8:\"Not Mapped\"}\n",
        "\n",
        "admission = pd.DataFrame.from_dict(admission_data, orient='index',columns = [\"description\"])\n",
        "admission.index.name = \"admission_type_id\"\n",
        "admission = admission\n",
        "print(tabulate(admission, headers='keys', tablefmt='psql'))"
      ],
      "metadata": {
        "colab": {
          "base_uri": "https://localhost:8080/"
        },
        "cellView": "form",
        "id": "yAVvvRckxXGs",
        "outputId": "13443e0b-c048-4cea-a45c-06de8756c623"
      },
      "execution_count": null,
      "outputs": [
        {
          "output_type": "stream",
          "name": "stdout",
          "text": [
            "+---------------------+---------------+\n",
            "|   admission_type_id | description   |\n",
            "|---------------------+---------------|\n",
            "|                   1 | Emergency     |\n",
            "|                   2 | Urgent        |\n",
            "|                   3 | Elective      |\n",
            "|                   4 | Newborn       |\n",
            "|                   5 | Not Available |\n",
            "|                   6 | NULL          |\n",
            "|                   7 | Trauma Center |\n",
            "|                   8 | Not Mapped    |\n",
            "+---------------------+---------------+\n"
          ]
        }
      ]
    },
    {
      "cell_type": "code",
      "source": [
        "#@title\n",
        "admission_source_data ={\n",
        "1:\"Physician Referral\",\n",
        "2:\"Clinic Referral\",\n",
        "3:\"HMO Referral\",\t\n",
        "4:\"Transfer from a hospital\",\n",
        "5:\"Transfer from a Skilled Nursing Facility (SNF)\t\",\n",
        "6:\"Transfer from another health care facility:\",\n",
        "7:\"Emergency Room\",\n",
        "8:\"Court/Law Enforcement\",\n",
        "9:\"Not Available\",\n",
        "10:\"Transfer from critial access hospital\",\n",
        "11:\"Normal Delivery\",\n",
        "12:\"Premature Delivery\",\t\n",
        "13:\"Sick Baby:\",\n",
        "14:\"Extramural Birth\",\n",
        "15:\"Not Available:\",\n",
        "17:\"NULL\",\n",
        "18:\"Transfer From Another Home Health Agency\",\t\n",
        "19:\"Readmission to Same Home Health Agency\",\t\n",
        "20:\"Not Mapped\",\n",
        "21:\"Unknown/Invalid\",\n",
        "22:\"Transfer from hospital inpt/same fac reslt in a sep claim\t\",\n",
        "23:\"Born inside this hospital\",\t\n",
        "24:\"Born outside this hospital\",\n",
        "25:\"Transfer from Ambulatory Surgery Center\",\t\n",
        "26:\"Transfer from Hospice\"}\n",
        "admission_source = pd.DataFrame.from_dict(admission_source_data, orient='index',columns = [\"description\"])\n",
        "admission_source.index.name = \"admission_source_id\"\n",
        "admission_source = admission_source.sample(5)\n",
        "print(tabulate(admission_source, headers='keys', tablefmt='psql'))"
      ],
      "metadata": {
        "colab": {
          "base_uri": "https://localhost:8080/"
        },
        "id": "2lcp21ez09Tn",
        "outputId": "1aedcfe6-4aa8-468f-8250-082ff2f27055",
        "cellView": "form"
      },
      "execution_count": null,
      "outputs": [
        {
          "output_type": "stream",
          "name": "stdout",
          "text": [
            "+-----------------------+-----------------------------------------------------------+\n",
            "|   admission_source_id | description                                               |\n",
            "|-----------------------+-----------------------------------------------------------|\n",
            "|                    22 | Transfer from hospital inpt/same fac reslt in a sep claim |\n",
            "|                    24 | Born outside this hospital                                |\n",
            "|                    18 | Transfer From Another Home Health Agency                  |\n",
            "|                    20 | Not Mapped                                                |\n",
            "|                    14 | Extramural Birth                                          |\n",
            "+-----------------------+-----------------------------------------------------------+\n"
          ]
        }
      ]
    },
    {
      "cell_type": "code",
      "source": [
        "#@title\n",
        "data = {1:\"Discharged to home\",\n",
        "2:\"Discharged/transferred to another short term hospital\",\t\t\t\t\t\n",
        "3:\"Discharged/transferred to SNF\",\t\t\t\n",
        "4:\"Discharged/transferred to ICF\",\t\t\t\t\n",
        "5:\"Discharged/transferred to another type of inpatient care institution\",\t\t\t\t\n",
        "6:\"Discharged/transferred to home with home health service\", \n",
        "7:\"Left AMA\",\t\t\t\t\n",
        "8:\"Discharged/transferred to home under care of Home IV provider\",\t\t\t\t\t\n",
        "9:\"Admitted as an inpatient to this hospital\",\t\t\t\t\n",
        "10:\"Neonate discharged to another hospital for neonatal aftercare\",\n",
        "11:\"Expired\",\t\t\t\t\t\n",
        "12:\"Still patient or expected to return for outpatient services\",\t\t\t\n",
        "13:\"Hospice / home\",\t\t\t\t\n",
        "14:\"Hospice / medical facility\",\t\t\t\t\n",
        "15:\"Discharged/transferred within this institution to Medicare approved swing bed\",\t\t\t\t\n",
        "16:\"Discharged/transferred/referred another institution for outpatient services\",\t\t\t\n",
        "17:\"Discharged/transferred/referred to this institution for outpatient services\",\t\t\t\n",
        "18:\"NULL\",\t\t\t\t\n",
        "19:\"Expired at home. Medicaid only, hospice\",\t\t\t\t\t\n",
        "20:\"Expired in a medical facility. Medicaid only, hospice\",\t\t\t\t\t\n",
        "21:\"Expired, place unknown. Medicaid only, hospice\",\t\t\t\n",
        "22:\"Discharged/transferred to another rehab fac including rehab units of a hospital\",\n",
        "23:\"Discharged/transferred to a long term care hospital\",\t\t\t\t\t\n",
        "24:\"Discharged/transferred to a nursing facility certified under Medicaid but not certified under Medicare\",\n",
        "25:\"Not Mapped\",\t\t\t\n",
        "26:\"Unknown/Invalid\",\t\t\n",
        "27:\"Discharged/transferred to another Type of Health Care Institution not Defined Elsewhere\",\t\t\t\t\n",
        "28:\"Discharged/transferred to a federal health care facility\",\n",
        "29:\"Discharged/transferred/referred to a psychiatric hospital of psychiatric distinct part unit of a hospital\",\t\t\t\t\n",
        "30:\"Discharged/transferred to a Critical Access Hospital (CAH)\"}\n",
        "\n",
        "discharge = pd.DataFrame.from_dict(data, orient='index',columns = [\"discharge description\"])\n",
        "discharge.index.name = \"discharge_disposition_id\"\n",
        "discharge = discharge.sample(5)\n",
        "print(tabulate(discharge, headers='keys', tablefmt='psql'))"
      ],
      "metadata": {
        "colab": {
          "base_uri": "https://localhost:8080/"
        },
        "cellView": "form",
        "id": "bxWHKpdXixVZ",
        "outputId": "24b20ca7-82f7-4cd4-c1a4-ca1b2679edbf"
      },
      "execution_count": null,
      "outputs": [
        {
          "output_type": "stream",
          "name": "stdout",
          "text": [
            "+----------------------------+---------------------------------------------------------------+\n",
            "|   discharge_disposition_id | discharge description                                         |\n",
            "|----------------------------+---------------------------------------------------------------|\n",
            "|                         13 | Hospice / home                                                |\n",
            "|                         19 | Expired at home. Medicaid only, hospice                       |\n",
            "|                         10 | Neonate discharged to another hospital for neonatal aftercare |\n",
            "|                         30 | Discharged/transferred to a Critical Access Hospital (CAH)    |\n",
            "|                          6 | Discharged/transferred to home with home health service       |\n",
            "+----------------------------+---------------------------------------------------------------+\n"
          ]
        }
      ]
    },
    {
      "cell_type": "markdown",
      "source": [
        "###**Readmission Indicator - Target Feature**\n",
        "\n",
        "**readmitted** — Indicates whether a patient was readmitted after a particular admission. 3 levels for this variable:\n",
        "\n",
        "**NO** — No readmission\n",
        "\n",
        "**<30** — Readmission within 30 days\n",
        "\n",
        "**>30**— Readmission after more than 30 days"
      ],
      "metadata": {
        "id": "YV0jwoA8XV-W"
      }
    },
    {
      "cell_type": "markdown",
      "source": [
        "###**Dataset Descriptive information**"
      ],
      "metadata": {
        "id": "mHQgQcE8cPsL"
      }
    },
    {
      "cell_type": "markdown",
      "source": [
        "It is important to know if a patient will be readmitted in some hospital. The reason is that you can change the treatment, in order to avoid a readmission.\n",
        "\n",
        "**The Dataset contains :**\n",
        "\n",
        "**101766** Records of Diabetes Patients -\n",
        "\n",
        "**71518 unique** Patients.\n",
        "\n",
        "**30248 readmitted Patients**, They will be our Test group.\n",
        "\n",
        "--\n",
        "\n",
        "**Also:**\n",
        "\n",
        "**54864** - Patients Have No readmission reported\n",
        "\n",
        "**35545** - Patients Have readmitted in less than 30 days\n",
        "\n",
        "**11357** - Patients Have readmitted in more than 30 days"
      ],
      "metadata": {
        "id": "HZSFalyInPqt"
      }
    },
    {
      "cell_type": "markdown",
      "source": [
        "##**Dataset Information**"
      ],
      "metadata": {
        "id": "Tp1jyqx-PPba"
      }
    },
    {
      "cell_type": "markdown",
      "source": [
        "The dataset represents 10 years (1999-2008) of clinical care at 130 US hospitals. \n",
        "\n",
        "It includes over 50 features representing patient and hospital outcomes. \n",
        "\n",
        "Information was extracted from the database for encounters that satisfied the following criteria.\n",
        "\n",
        "(1) It is an inpatient encounter (a hospital admission).\n",
        "\n",
        "(2) It is a diabetic encounter, that is, one during which any kind of diabetes was entered to the system as a diagnosis.\n",
        "\n",
        "(3) The length of stay was at least 1 day and at most 14 days.\n",
        "\n",
        "(4) Laboratory tests were performed during the encounter.\n",
        "\n",
        "(5) Medications were administered during the encounter.\n",
        "\n"
      ],
      "metadata": {
        "id": "2OvLaLaqCeSV"
      }
    },
    {
      "cell_type": "code",
      "source": [
        "print('--Examine the data types--')\n",
        "print(diabetic_data.info())\n",
        "print(diabetic_data.describe())"
      ],
      "metadata": {
        "colab": {
          "base_uri": "https://localhost:8080/"
        },
        "id": "es9O2qxY5zxV",
        "outputId": "39b08a6d-d7d6-4758-b303-f5ae0beb660f"
      },
      "execution_count": null,
      "outputs": [
        {
          "output_type": "stream",
          "name": "stdout",
          "text": [
            "--Examine the data types--\n",
            "<class 'pandas.core.frame.DataFrame'>\n",
            "RangeIndex: 101766 entries, 0 to 101765\n",
            "Data columns (total 50 columns):\n",
            " #   Column                    Non-Null Count   Dtype \n",
            "---  ------                    --------------   ----- \n",
            " 0   encounter_id              101766 non-null  int64 \n",
            " 1   patient_nbr               101766 non-null  int64 \n",
            " 2   race                      101766 non-null  object\n",
            " 3   gender                    101766 non-null  object\n",
            " 4   age                       101766 non-null  object\n",
            " 5   weight                    101766 non-null  object\n",
            " 6   admission_type_id         101766 non-null  int64 \n",
            " 7   discharge_disposition_id  101766 non-null  int64 \n",
            " 8   admission_source_id       101766 non-null  int64 \n",
            " 9   time_in_hospital          101766 non-null  int64 \n",
            " 10  payer_code                101766 non-null  object\n",
            " 11  medical_specialty         101766 non-null  object\n",
            " 12  num_lab_procedures        101766 non-null  int64 \n",
            " 13  num_procedures            101766 non-null  int64 \n",
            " 14  num_medications           101766 non-null  int64 \n",
            " 15  number_outpatient         101766 non-null  int64 \n",
            " 16  number_emergency          101766 non-null  int64 \n",
            " 17  number_inpatient          101766 non-null  int64 \n",
            " 18  diag_1                    101766 non-null  object\n",
            " 19  diag_2                    101766 non-null  object\n",
            " 20  diag_3                    101766 non-null  object\n",
            " 21  number_diagnoses          101766 non-null  int64 \n",
            " 22  max_glu_serum             101766 non-null  object\n",
            " 23  A1Cresult                 101766 non-null  object\n",
            " 24  metformin                 101766 non-null  object\n",
            " 25  repaglinide               101766 non-null  object\n",
            " 26  nateglinide               101766 non-null  object\n",
            " 27  chlorpropamide            101766 non-null  object\n",
            " 28  glimepiride               101766 non-null  object\n",
            " 29  acetohexamide             101766 non-null  object\n",
            " 30  glipizide                 101766 non-null  object\n",
            " 31  glyburide                 101766 non-null  object\n",
            " 32  tolbutamide               101766 non-null  object\n",
            " 33  pioglitazone              101766 non-null  object\n",
            " 34  rosiglitazone             101766 non-null  object\n",
            " 35  acarbose                  101766 non-null  object\n",
            " 36  miglitol                  101766 non-null  object\n",
            " 37  troglitazone              101766 non-null  object\n",
            " 38  tolazamide                101766 non-null  object\n",
            " 39  examide                   101766 non-null  object\n",
            " 40  citoglipton               101766 non-null  object\n",
            " 41  insulin                   101766 non-null  object\n",
            " 42  glyburide-metformin       101766 non-null  object\n",
            " 43  glipizide-metformin       101766 non-null  object\n",
            " 44  glimepiride-pioglitazone  101766 non-null  object\n",
            " 45  metformin-rosiglitazone   101766 non-null  object\n",
            " 46  metformin-pioglitazone    101766 non-null  object\n",
            " 47  change                    101766 non-null  object\n",
            " 48  diabetesMed               101766 non-null  object\n",
            " 49  readmitted                101766 non-null  object\n",
            "dtypes: int64(13), object(37)\n",
            "memory usage: 38.8+ MB\n",
            "None\n",
            "       encounter_id   patient_nbr  admission_type_id  \\\n",
            "count  1.017660e+05  1.017660e+05      101766.000000   \n",
            "mean   1.652016e+08  5.433040e+07           2.024006   \n",
            "std    1.026403e+08  3.869636e+07           1.445403   \n",
            "min    1.252200e+04  1.350000e+02           1.000000   \n",
            "25%    8.496119e+07  2.341322e+07           1.000000   \n",
            "50%    1.523890e+08  4.550514e+07           1.000000   \n",
            "75%    2.302709e+08  8.754595e+07           3.000000   \n",
            "max    4.438672e+08  1.895026e+08           8.000000   \n",
            "\n",
            "       discharge_disposition_id  admission_source_id  time_in_hospital  \\\n",
            "count             101766.000000        101766.000000     101766.000000   \n",
            "mean                   3.715642             5.754437          4.395987   \n",
            "std                    5.280166             4.064081          2.985108   \n",
            "min                    1.000000             1.000000          1.000000   \n",
            "25%                    1.000000             1.000000          2.000000   \n",
            "50%                    1.000000             7.000000          4.000000   \n",
            "75%                    4.000000             7.000000          6.000000   \n",
            "max                   28.000000            25.000000         14.000000   \n",
            "\n",
            "       num_lab_procedures  num_procedures  num_medications  number_outpatient  \\\n",
            "count       101766.000000   101766.000000    101766.000000      101766.000000   \n",
            "mean            43.095641        1.339730        16.021844           0.369357   \n",
            "std             19.674362        1.705807         8.127566           1.267265   \n",
            "min              1.000000        0.000000         1.000000           0.000000   \n",
            "25%             31.000000        0.000000        10.000000           0.000000   \n",
            "50%             44.000000        1.000000        15.000000           0.000000   \n",
            "75%             57.000000        2.000000        20.000000           0.000000   \n",
            "max            132.000000        6.000000        81.000000          42.000000   \n",
            "\n",
            "       number_emergency  number_inpatient  number_diagnoses  \n",
            "count     101766.000000     101766.000000     101766.000000  \n",
            "mean           0.197836          0.635566          7.422607  \n",
            "std            0.930472          1.262863          1.933600  \n",
            "min            0.000000          0.000000          1.000000  \n",
            "25%            0.000000          0.000000          6.000000  \n",
            "50%            0.000000          0.000000          8.000000  \n",
            "75%            0.000000          1.000000          9.000000  \n",
            "max           76.000000         21.000000         16.000000  \n"
          ]
        }
      ]
    },
    {
      "cell_type": "code",
      "source": [
        "print('--sample of the dataframe--')\n",
        "diabetic_data.sample(5).T"
      ],
      "metadata": {
        "colab": {
          "base_uri": "https://localhost:8080/",
          "height": 1000
        },
        "id": "LsrLm0OHNA3-",
        "outputId": "38d00e22-0410-404a-9fc8-8c5787bcd1f4"
      },
      "execution_count": null,
      "outputs": [
        {
          "output_type": "stream",
          "name": "stdout",
          "text": [
            "--sample of the dataframe--\n"
          ]
        },
        {
          "output_type": "execute_result",
          "data": {
            "text/plain": [
              "                             83121     27065                   30846   \\\n",
              "encounter_id              259830174  88765026                99440664   \n",
              "patient_nbr                39392334   6917454                24152841   \n",
              "race                      Caucasian         ?         AfricanAmerican   \n",
              "gender                       Female      Male                  Female   \n",
              "age                         [80-90)   [50-60)                 [70-80)   \n",
              "weight                            ?         ?                       ?   \n",
              "admission_type_id                 1         2                       3   \n",
              "discharge_disposition_id          1         1                       3   \n",
              "admission_source_id               7         1                       1   \n",
              "time_in_hospital                  1         2                       4   \n",
              "payer_code                       MC        BC                       ?   \n",
              "medical_specialty                 ?         ?  Family/GeneralPractice   \n",
              "num_lab_procedures               22        59                      26   \n",
              "num_procedures                    0         0                       1   \n",
              "num_medications                  13        11                      23   \n",
              "number_outpatient                 0         0                       0   \n",
              "number_emergency                  0         0                       0   \n",
              "number_inpatient                  2         1                       0   \n",
              "diag_1                          493        79                     522   \n",
              "diag_2                          427       560                     521   \n",
              "diag_3                          424       250                     401   \n",
              "number_diagnoses                  9         4                       7   \n",
              "max_glu_serum                  None      None                    None   \n",
              "A1Cresult                      None      None                    None   \n",
              "metformin                        No        No                      No   \n",
              "repaglinide                      No        No                      No   \n",
              "nateglinide                      No        No                      No   \n",
              "chlorpropamide                   No        No                      No   \n",
              "glimepiride                      No        No                      No   \n",
              "acetohexamide                    No        No                      No   \n",
              "glipizide                        No        No                      No   \n",
              "glyburide                        No        No                      No   \n",
              "tolbutamide                      No        No                      No   \n",
              "pioglitazone                     No        No                      No   \n",
              "rosiglitazone                    No        No                      No   \n",
              "acarbose                         No        No                      No   \n",
              "miglitol                         No        No                      No   \n",
              "troglitazone                     No        No                      No   \n",
              "tolazamide                       No        No                      No   \n",
              "examide                          No        No                      No   \n",
              "citoglipton                      No        No                      No   \n",
              "insulin                          No        No                      No   \n",
              "glyburide-metformin              No        No                      No   \n",
              "glipizide-metformin              No        No                      No   \n",
              "glimepiride-pioglitazone         No        No                      No   \n",
              "metformin-rosiglitazone          No        No                      No   \n",
              "metformin-pioglitazone           No        No                      No   \n",
              "change                           No        No                      No   \n",
              "diabetesMed                      No        No                      No   \n",
              "readmitted                       NO        NO                      NO   \n",
              "\n",
              "                              11638      100365  \n",
              "encounter_id                48096210  424929914  \n",
              "patient_nbr                   840600   84711060  \n",
              "race                       Caucasian  Caucasian  \n",
              "gender                        Female       Male  \n",
              "age                          [50-60)    [60-70)  \n",
              "weight                             ?          ?  \n",
              "admission_type_id                  3          1  \n",
              "discharge_disposition_id           1          6  \n",
              "admission_source_id                1          7  \n",
              "time_in_hospital                   1          4  \n",
              "payer_code                         ?         MC  \n",
              "medical_specialty         Cardiology          ?  \n",
              "num_lab_procedures                 1         62  \n",
              "num_procedures                     2          1  \n",
              "num_medications                   10         18  \n",
              "number_outpatient                  0          0  \n",
              "number_emergency                   0          0  \n",
              "number_inpatient                   0          0  \n",
              "diag_1                           414        491  \n",
              "diag_2                           401          8  \n",
              "diag_3                           250        535  \n",
              "number_diagnoses                   5          8  \n",
              "max_glu_serum                   None       None  \n",
              "A1Cresult                       None       None  \n",
              "metformin                         No         No  \n",
              "repaglinide                       No         No  \n",
              "nateglinide                       No         No  \n",
              "chlorpropamide                    No         No  \n",
              "glimepiride                       No         No  \n",
              "acetohexamide                     No         No  \n",
              "glipizide                         No         No  \n",
              "glyburide                         No         Up  \n",
              "tolbutamide                       No         No  \n",
              "pioglitazone                      No         No  \n",
              "rosiglitazone                     No         No  \n",
              "acarbose                          No         No  \n",
              "miglitol                          No         No  \n",
              "troglitazone                      No         No  \n",
              "tolazamide                        No         No  \n",
              "examide                           No         No  \n",
              "citoglipton                       No         No  \n",
              "insulin                         Down         No  \n",
              "glyburide-metformin               No         No  \n",
              "glipizide-metformin               No         No  \n",
              "glimepiride-pioglitazone          No         No  \n",
              "metformin-rosiglitazone           No         No  \n",
              "metformin-pioglitazone            No         No  \n",
              "change                            Ch         Ch  \n",
              "diabetesMed                      Yes        Yes  \n",
              "readmitted                       >30        >30  "
            ],
            "text/html": [
              "\n",
              "  <div id=\"df-5aec5c1a-5fc7-4f10-b8f2-b6b2fcc3a258\">\n",
              "    <div class=\"colab-df-container\">\n",
              "      <div>\n",
              "<style scoped>\n",
              "    .dataframe tbody tr th:only-of-type {\n",
              "        vertical-align: middle;\n",
              "    }\n",
              "\n",
              "    .dataframe tbody tr th {\n",
              "        vertical-align: top;\n",
              "    }\n",
              "\n",
              "    .dataframe thead th {\n",
              "        text-align: right;\n",
              "    }\n",
              "</style>\n",
              "<table border=\"1\" class=\"dataframe\">\n",
              "  <thead>\n",
              "    <tr style=\"text-align: right;\">\n",
              "      <th></th>\n",
              "      <th>83121</th>\n",
              "      <th>27065</th>\n",
              "      <th>30846</th>\n",
              "      <th>11638</th>\n",
              "      <th>100365</th>\n",
              "    </tr>\n",
              "  </thead>\n",
              "  <tbody>\n",
              "    <tr>\n",
              "      <th>encounter_id</th>\n",
              "      <td>259830174</td>\n",
              "      <td>88765026</td>\n",
              "      <td>99440664</td>\n",
              "      <td>48096210</td>\n",
              "      <td>424929914</td>\n",
              "    </tr>\n",
              "    <tr>\n",
              "      <th>patient_nbr</th>\n",
              "      <td>39392334</td>\n",
              "      <td>6917454</td>\n",
              "      <td>24152841</td>\n",
              "      <td>840600</td>\n",
              "      <td>84711060</td>\n",
              "    </tr>\n",
              "    <tr>\n",
              "      <th>race</th>\n",
              "      <td>Caucasian</td>\n",
              "      <td>?</td>\n",
              "      <td>AfricanAmerican</td>\n",
              "      <td>Caucasian</td>\n",
              "      <td>Caucasian</td>\n",
              "    </tr>\n",
              "    <tr>\n",
              "      <th>gender</th>\n",
              "      <td>Female</td>\n",
              "      <td>Male</td>\n",
              "      <td>Female</td>\n",
              "      <td>Female</td>\n",
              "      <td>Male</td>\n",
              "    </tr>\n",
              "    <tr>\n",
              "      <th>age</th>\n",
              "      <td>[80-90)</td>\n",
              "      <td>[50-60)</td>\n",
              "      <td>[70-80)</td>\n",
              "      <td>[50-60)</td>\n",
              "      <td>[60-70)</td>\n",
              "    </tr>\n",
              "    <tr>\n",
              "      <th>weight</th>\n",
              "      <td>?</td>\n",
              "      <td>?</td>\n",
              "      <td>?</td>\n",
              "      <td>?</td>\n",
              "      <td>?</td>\n",
              "    </tr>\n",
              "    <tr>\n",
              "      <th>admission_type_id</th>\n",
              "      <td>1</td>\n",
              "      <td>2</td>\n",
              "      <td>3</td>\n",
              "      <td>3</td>\n",
              "      <td>1</td>\n",
              "    </tr>\n",
              "    <tr>\n",
              "      <th>discharge_disposition_id</th>\n",
              "      <td>1</td>\n",
              "      <td>1</td>\n",
              "      <td>3</td>\n",
              "      <td>1</td>\n",
              "      <td>6</td>\n",
              "    </tr>\n",
              "    <tr>\n",
              "      <th>admission_source_id</th>\n",
              "      <td>7</td>\n",
              "      <td>1</td>\n",
              "      <td>1</td>\n",
              "      <td>1</td>\n",
              "      <td>7</td>\n",
              "    </tr>\n",
              "    <tr>\n",
              "      <th>time_in_hospital</th>\n",
              "      <td>1</td>\n",
              "      <td>2</td>\n",
              "      <td>4</td>\n",
              "      <td>1</td>\n",
              "      <td>4</td>\n",
              "    </tr>\n",
              "    <tr>\n",
              "      <th>payer_code</th>\n",
              "      <td>MC</td>\n",
              "      <td>BC</td>\n",
              "      <td>?</td>\n",
              "      <td>?</td>\n",
              "      <td>MC</td>\n",
              "    </tr>\n",
              "    <tr>\n",
              "      <th>medical_specialty</th>\n",
              "      <td>?</td>\n",
              "      <td>?</td>\n",
              "      <td>Family/GeneralPractice</td>\n",
              "      <td>Cardiology</td>\n",
              "      <td>?</td>\n",
              "    </tr>\n",
              "    <tr>\n",
              "      <th>num_lab_procedures</th>\n",
              "      <td>22</td>\n",
              "      <td>59</td>\n",
              "      <td>26</td>\n",
              "      <td>1</td>\n",
              "      <td>62</td>\n",
              "    </tr>\n",
              "    <tr>\n",
              "      <th>num_procedures</th>\n",
              "      <td>0</td>\n",
              "      <td>0</td>\n",
              "      <td>1</td>\n",
              "      <td>2</td>\n",
              "      <td>1</td>\n",
              "    </tr>\n",
              "    <tr>\n",
              "      <th>num_medications</th>\n",
              "      <td>13</td>\n",
              "      <td>11</td>\n",
              "      <td>23</td>\n",
              "      <td>10</td>\n",
              "      <td>18</td>\n",
              "    </tr>\n",
              "    <tr>\n",
              "      <th>number_outpatient</th>\n",
              "      <td>0</td>\n",
              "      <td>0</td>\n",
              "      <td>0</td>\n",
              "      <td>0</td>\n",
              "      <td>0</td>\n",
              "    </tr>\n",
              "    <tr>\n",
              "      <th>number_emergency</th>\n",
              "      <td>0</td>\n",
              "      <td>0</td>\n",
              "      <td>0</td>\n",
              "      <td>0</td>\n",
              "      <td>0</td>\n",
              "    </tr>\n",
              "    <tr>\n",
              "      <th>number_inpatient</th>\n",
              "      <td>2</td>\n",
              "      <td>1</td>\n",
              "      <td>0</td>\n",
              "      <td>0</td>\n",
              "      <td>0</td>\n",
              "    </tr>\n",
              "    <tr>\n",
              "      <th>diag_1</th>\n",
              "      <td>493</td>\n",
              "      <td>79</td>\n",
              "      <td>522</td>\n",
              "      <td>414</td>\n",
              "      <td>491</td>\n",
              "    </tr>\n",
              "    <tr>\n",
              "      <th>diag_2</th>\n",
              "      <td>427</td>\n",
              "      <td>560</td>\n",
              "      <td>521</td>\n",
              "      <td>401</td>\n",
              "      <td>8</td>\n",
              "    </tr>\n",
              "    <tr>\n",
              "      <th>diag_3</th>\n",
              "      <td>424</td>\n",
              "      <td>250</td>\n",
              "      <td>401</td>\n",
              "      <td>250</td>\n",
              "      <td>535</td>\n",
              "    </tr>\n",
              "    <tr>\n",
              "      <th>number_diagnoses</th>\n",
              "      <td>9</td>\n",
              "      <td>4</td>\n",
              "      <td>7</td>\n",
              "      <td>5</td>\n",
              "      <td>8</td>\n",
              "    </tr>\n",
              "    <tr>\n",
              "      <th>max_glu_serum</th>\n",
              "      <td>None</td>\n",
              "      <td>None</td>\n",
              "      <td>None</td>\n",
              "      <td>None</td>\n",
              "      <td>None</td>\n",
              "    </tr>\n",
              "    <tr>\n",
              "      <th>A1Cresult</th>\n",
              "      <td>None</td>\n",
              "      <td>None</td>\n",
              "      <td>None</td>\n",
              "      <td>None</td>\n",
              "      <td>None</td>\n",
              "    </tr>\n",
              "    <tr>\n",
              "      <th>metformin</th>\n",
              "      <td>No</td>\n",
              "      <td>No</td>\n",
              "      <td>No</td>\n",
              "      <td>No</td>\n",
              "      <td>No</td>\n",
              "    </tr>\n",
              "    <tr>\n",
              "      <th>repaglinide</th>\n",
              "      <td>No</td>\n",
              "      <td>No</td>\n",
              "      <td>No</td>\n",
              "      <td>No</td>\n",
              "      <td>No</td>\n",
              "    </tr>\n",
              "    <tr>\n",
              "      <th>nateglinide</th>\n",
              "      <td>No</td>\n",
              "      <td>No</td>\n",
              "      <td>No</td>\n",
              "      <td>No</td>\n",
              "      <td>No</td>\n",
              "    </tr>\n",
              "    <tr>\n",
              "      <th>chlorpropamide</th>\n",
              "      <td>No</td>\n",
              "      <td>No</td>\n",
              "      <td>No</td>\n",
              "      <td>No</td>\n",
              "      <td>No</td>\n",
              "    </tr>\n",
              "    <tr>\n",
              "      <th>glimepiride</th>\n",
              "      <td>No</td>\n",
              "      <td>No</td>\n",
              "      <td>No</td>\n",
              "      <td>No</td>\n",
              "      <td>No</td>\n",
              "    </tr>\n",
              "    <tr>\n",
              "      <th>acetohexamide</th>\n",
              "      <td>No</td>\n",
              "      <td>No</td>\n",
              "      <td>No</td>\n",
              "      <td>No</td>\n",
              "      <td>No</td>\n",
              "    </tr>\n",
              "    <tr>\n",
              "      <th>glipizide</th>\n",
              "      <td>No</td>\n",
              "      <td>No</td>\n",
              "      <td>No</td>\n",
              "      <td>No</td>\n",
              "      <td>No</td>\n",
              "    </tr>\n",
              "    <tr>\n",
              "      <th>glyburide</th>\n",
              "      <td>No</td>\n",
              "      <td>No</td>\n",
              "      <td>No</td>\n",
              "      <td>No</td>\n",
              "      <td>Up</td>\n",
              "    </tr>\n",
              "    <tr>\n",
              "      <th>tolbutamide</th>\n",
              "      <td>No</td>\n",
              "      <td>No</td>\n",
              "      <td>No</td>\n",
              "      <td>No</td>\n",
              "      <td>No</td>\n",
              "    </tr>\n",
              "    <tr>\n",
              "      <th>pioglitazone</th>\n",
              "      <td>No</td>\n",
              "      <td>No</td>\n",
              "      <td>No</td>\n",
              "      <td>No</td>\n",
              "      <td>No</td>\n",
              "    </tr>\n",
              "    <tr>\n",
              "      <th>rosiglitazone</th>\n",
              "      <td>No</td>\n",
              "      <td>No</td>\n",
              "      <td>No</td>\n",
              "      <td>No</td>\n",
              "      <td>No</td>\n",
              "    </tr>\n",
              "    <tr>\n",
              "      <th>acarbose</th>\n",
              "      <td>No</td>\n",
              "      <td>No</td>\n",
              "      <td>No</td>\n",
              "      <td>No</td>\n",
              "      <td>No</td>\n",
              "    </tr>\n",
              "    <tr>\n",
              "      <th>miglitol</th>\n",
              "      <td>No</td>\n",
              "      <td>No</td>\n",
              "      <td>No</td>\n",
              "      <td>No</td>\n",
              "      <td>No</td>\n",
              "    </tr>\n",
              "    <tr>\n",
              "      <th>troglitazone</th>\n",
              "      <td>No</td>\n",
              "      <td>No</td>\n",
              "      <td>No</td>\n",
              "      <td>No</td>\n",
              "      <td>No</td>\n",
              "    </tr>\n",
              "    <tr>\n",
              "      <th>tolazamide</th>\n",
              "      <td>No</td>\n",
              "      <td>No</td>\n",
              "      <td>No</td>\n",
              "      <td>No</td>\n",
              "      <td>No</td>\n",
              "    </tr>\n",
              "    <tr>\n",
              "      <th>examide</th>\n",
              "      <td>No</td>\n",
              "      <td>No</td>\n",
              "      <td>No</td>\n",
              "      <td>No</td>\n",
              "      <td>No</td>\n",
              "    </tr>\n",
              "    <tr>\n",
              "      <th>citoglipton</th>\n",
              "      <td>No</td>\n",
              "      <td>No</td>\n",
              "      <td>No</td>\n",
              "      <td>No</td>\n",
              "      <td>No</td>\n",
              "    </tr>\n",
              "    <tr>\n",
              "      <th>insulin</th>\n",
              "      <td>No</td>\n",
              "      <td>No</td>\n",
              "      <td>No</td>\n",
              "      <td>Down</td>\n",
              "      <td>No</td>\n",
              "    </tr>\n",
              "    <tr>\n",
              "      <th>glyburide-metformin</th>\n",
              "      <td>No</td>\n",
              "      <td>No</td>\n",
              "      <td>No</td>\n",
              "      <td>No</td>\n",
              "      <td>No</td>\n",
              "    </tr>\n",
              "    <tr>\n",
              "      <th>glipizide-metformin</th>\n",
              "      <td>No</td>\n",
              "      <td>No</td>\n",
              "      <td>No</td>\n",
              "      <td>No</td>\n",
              "      <td>No</td>\n",
              "    </tr>\n",
              "    <tr>\n",
              "      <th>glimepiride-pioglitazone</th>\n",
              "      <td>No</td>\n",
              "      <td>No</td>\n",
              "      <td>No</td>\n",
              "      <td>No</td>\n",
              "      <td>No</td>\n",
              "    </tr>\n",
              "    <tr>\n",
              "      <th>metformin-rosiglitazone</th>\n",
              "      <td>No</td>\n",
              "      <td>No</td>\n",
              "      <td>No</td>\n",
              "      <td>No</td>\n",
              "      <td>No</td>\n",
              "    </tr>\n",
              "    <tr>\n",
              "      <th>metformin-pioglitazone</th>\n",
              "      <td>No</td>\n",
              "      <td>No</td>\n",
              "      <td>No</td>\n",
              "      <td>No</td>\n",
              "      <td>No</td>\n",
              "    </tr>\n",
              "    <tr>\n",
              "      <th>change</th>\n",
              "      <td>No</td>\n",
              "      <td>No</td>\n",
              "      <td>No</td>\n",
              "      <td>Ch</td>\n",
              "      <td>Ch</td>\n",
              "    </tr>\n",
              "    <tr>\n",
              "      <th>diabetesMed</th>\n",
              "      <td>No</td>\n",
              "      <td>No</td>\n",
              "      <td>No</td>\n",
              "      <td>Yes</td>\n",
              "      <td>Yes</td>\n",
              "    </tr>\n",
              "    <tr>\n",
              "      <th>readmitted</th>\n",
              "      <td>NO</td>\n",
              "      <td>NO</td>\n",
              "      <td>NO</td>\n",
              "      <td>&gt;30</td>\n",
              "      <td>&gt;30</td>\n",
              "    </tr>\n",
              "  </tbody>\n",
              "</table>\n",
              "</div>\n",
              "      <button class=\"colab-df-convert\" onclick=\"convertToInteractive('df-5aec5c1a-5fc7-4f10-b8f2-b6b2fcc3a258')\"\n",
              "              title=\"Convert this dataframe to an interactive table.\"\n",
              "              style=\"display:none;\">\n",
              "        \n",
              "  <svg xmlns=\"http://www.w3.org/2000/svg\" height=\"24px\"viewBox=\"0 0 24 24\"\n",
              "       width=\"24px\">\n",
              "    <path d=\"M0 0h24v24H0V0z\" fill=\"none\"/>\n",
              "    <path d=\"M18.56 5.44l.94 2.06.94-2.06 2.06-.94-2.06-.94-.94-2.06-.94 2.06-2.06.94zm-11 1L8.5 8.5l.94-2.06 2.06-.94-2.06-.94L8.5 2.5l-.94 2.06-2.06.94zm10 10l.94 2.06.94-2.06 2.06-.94-2.06-.94-.94-2.06-.94 2.06-2.06.94z\"/><path d=\"M17.41 7.96l-1.37-1.37c-.4-.4-.92-.59-1.43-.59-.52 0-1.04.2-1.43.59L10.3 9.45l-7.72 7.72c-.78.78-.78 2.05 0 2.83L4 21.41c.39.39.9.59 1.41.59.51 0 1.02-.2 1.41-.59l7.78-7.78 2.81-2.81c.8-.78.8-2.07 0-2.86zM5.41 20L4 18.59l7.72-7.72 1.47 1.35L5.41 20z\"/>\n",
              "  </svg>\n",
              "      </button>\n",
              "      \n",
              "  <style>\n",
              "    .colab-df-container {\n",
              "      display:flex;\n",
              "      flex-wrap:wrap;\n",
              "      gap: 12px;\n",
              "    }\n",
              "\n",
              "    .colab-df-convert {\n",
              "      background-color: #E8F0FE;\n",
              "      border: none;\n",
              "      border-radius: 50%;\n",
              "      cursor: pointer;\n",
              "      display: none;\n",
              "      fill: #1967D2;\n",
              "      height: 32px;\n",
              "      padding: 0 0 0 0;\n",
              "      width: 32px;\n",
              "    }\n",
              "\n",
              "    .colab-df-convert:hover {\n",
              "      background-color: #E2EBFA;\n",
              "      box-shadow: 0px 1px 2px rgba(60, 64, 67, 0.3), 0px 1px 3px 1px rgba(60, 64, 67, 0.15);\n",
              "      fill: #174EA6;\n",
              "    }\n",
              "\n",
              "    [theme=dark] .colab-df-convert {\n",
              "      background-color: #3B4455;\n",
              "      fill: #D2E3FC;\n",
              "    }\n",
              "\n",
              "    [theme=dark] .colab-df-convert:hover {\n",
              "      background-color: #434B5C;\n",
              "      box-shadow: 0px 1px 3px 1px rgba(0, 0, 0, 0.15);\n",
              "      filter: drop-shadow(0px 1px 2px rgba(0, 0, 0, 0.3));\n",
              "      fill: #FFFFFF;\n",
              "    }\n",
              "  </style>\n",
              "\n",
              "      <script>\n",
              "        const buttonEl =\n",
              "          document.querySelector('#df-5aec5c1a-5fc7-4f10-b8f2-b6b2fcc3a258 button.colab-df-convert');\n",
              "        buttonEl.style.display =\n",
              "          google.colab.kernel.accessAllowed ? 'block' : 'none';\n",
              "\n",
              "        async function convertToInteractive(key) {\n",
              "          const element = document.querySelector('#df-5aec5c1a-5fc7-4f10-b8f2-b6b2fcc3a258');\n",
              "          const dataTable =\n",
              "            await google.colab.kernel.invokeFunction('convertToInteractive',\n",
              "                                                     [key], {});\n",
              "          if (!dataTable) return;\n",
              "\n",
              "          const docLinkHtml = 'Like what you see? Visit the ' +\n",
              "            '<a target=\"_blank\" href=https://colab.research.google.com/notebooks/data_table.ipynb>data table notebook</a>'\n",
              "            + ' to learn more about interactive tables.';\n",
              "          element.innerHTML = '';\n",
              "          dataTable['output_type'] = 'display_data';\n",
              "          await google.colab.output.renderOutput(dataTable, element);\n",
              "          const docLink = document.createElement('div');\n",
              "          docLink.innerHTML = docLinkHtml;\n",
              "          element.appendChild(docLink);\n",
              "        }\n",
              "      </script>\n",
              "    </div>\n",
              "  </div>\n",
              "  "
            ]
          },
          "metadata": {},
          "execution_count": 8
        }
      ]
    },
    {
      "cell_type": "code",
      "source": [
        "print(\"--unique values in each column--\")\n",
        "for col in diabetic_data.columns:\n",
        "    print(\"\\n\",\"column\",col,\":\",\"---->\",diabetic_data[col].unique(),\"have\",len(diabetic_data[col].unique()),\"unique value(s)\")\n",
        "    "
      ],
      "metadata": {
        "colab": {
          "base_uri": "https://localhost:8080/"
        },
        "id": "bcunpJO86a1N",
        "outputId": "a27b1ef6-5e08-4f54-d146-712faa17ac21"
      },
      "execution_count": null,
      "outputs": [
        {
          "output_type": "stream",
          "name": "stdout",
          "text": [
            "--unique values in each column--\n",
            "\n",
            " column encounter_id : ----> [  2278392    149190     64410 ... 443854148 443857166 443867222] have 101766 unique value(s)\n",
            "\n",
            " column patient_nbr : ----> [  8222157  55629189  86047875 ... 140199494 120975314 175429310] have 71518 unique value(s)\n",
            "\n",
            " column race : ----> ['Caucasian' 'AfricanAmerican' '?' 'Other' 'Asian' 'Hispanic'] have 6 unique value(s)\n",
            "\n",
            " column gender : ----> ['Female' 'Male' 'Unknown/Invalid'] have 3 unique value(s)\n",
            "\n",
            " column age : ----> ['[0-10)' '[10-20)' '[20-30)' '[30-40)' '[40-50)' '[50-60)' '[60-70)'\n",
            " '[70-80)' '[80-90)' '[90-100)'] have 10 unique value(s)\n",
            "\n",
            " column weight : ----> ['?' '[75-100)' '[50-75)' '[0-25)' '[100-125)' '[25-50)' '[125-150)'\n",
            " '[175-200)' '[150-175)' '>200'] have 10 unique value(s)\n",
            "\n",
            " column admission_type_id : ----> [6 1 2 3 4 5 8 7] have 8 unique value(s)\n",
            "\n",
            " column discharge_disposition_id : ----> [25  1  3  6  2  5 11  7 10  4 14 18  8 13 12 16 17 22 23  9 20 15 24 28\n",
            " 19 27] have 26 unique value(s)\n",
            "\n",
            " column admission_source_id : ----> [ 1  7  2  4  5  6 20  3 17  8  9 14 10 22 11 25 13] have 17 unique value(s)\n",
            "\n",
            " column time_in_hospital : ----> [ 1  3  2  4  5 13 12  9  7 10  6 11  8 14] have 14 unique value(s)\n",
            "\n",
            " column payer_code : ----> ['?' 'MC' 'MD' 'HM' 'UN' 'BC' 'SP' 'CP' 'SI' 'DM' 'CM' 'CH' 'PO' 'WC' 'OT'\n",
            " 'OG' 'MP' 'FR'] have 18 unique value(s)\n",
            "\n",
            " column medical_specialty : ----> ['Pediatrics-Endocrinology' '?' 'InternalMedicine'\n",
            " 'Family/GeneralPractice' 'Cardiology' 'Surgery-General' 'Orthopedics'\n",
            " 'Gastroenterology' 'Surgery-Cardiovascular/Thoracic' 'Nephrology'\n",
            " 'Orthopedics-Reconstructive' 'Psychiatry' 'Emergency/Trauma'\n",
            " 'Pulmonology' 'Surgery-Neuro' 'Obsterics&Gynecology-GynecologicOnco'\n",
            " 'ObstetricsandGynecology' 'Pediatrics' 'Hematology/Oncology'\n",
            " 'Otolaryngology' 'Surgery-Colon&Rectal' 'Pediatrics-CriticalCare'\n",
            " 'Endocrinology' 'Urology' 'Psychiatry-Child/Adolescent'\n",
            " 'Pediatrics-Pulmonology' 'Neurology' 'Anesthesiology-Pediatric'\n",
            " 'Radiology' 'Pediatrics-Hematology-Oncology' 'Psychology' 'Podiatry'\n",
            " 'Gynecology' 'Oncology' 'Pediatrics-Neurology' 'Surgery-Plastic'\n",
            " 'Surgery-Thoracic' 'Surgery-PlasticwithinHeadandNeck' 'Ophthalmology'\n",
            " 'Surgery-Pediatric' 'Pediatrics-EmergencyMedicine'\n",
            " 'PhysicalMedicineandRehabilitation' 'InfectiousDiseases' 'Anesthesiology'\n",
            " 'Rheumatology' 'AllergyandImmunology' 'Surgery-Maxillofacial'\n",
            " 'Pediatrics-InfectiousDiseases' 'Pediatrics-AllergyandImmunology'\n",
            " 'Dentistry' 'Surgeon' 'Surgery-Vascular' 'Osteopath'\n",
            " 'Psychiatry-Addictive' 'Surgery-Cardiovascular' 'PhysicianNotFound'\n",
            " 'Hematology' 'Proctology' 'Obstetrics' 'SurgicalSpecialty' 'Radiologist'\n",
            " 'Pathology' 'Dermatology' 'SportsMedicine' 'Speech' 'Hospitalist'\n",
            " 'OutreachServices' 'Cardiology-Pediatric' 'Perinatology'\n",
            " 'Neurophysiology' 'Endocrinology-Metabolism' 'DCPTEAM' 'Resident'] have 73 unique value(s)\n",
            "\n",
            " column num_lab_procedures : ----> [ 41  59  11  44  51  31  70  73  68  33  47  62  60  55  49  75  45  29\n",
            "  35  42  66  36  19  64  25  53  52  87  27  37  46  28  48  72  10   2\n",
            "  65  67  40  54  58  57  43  32  83  34  39  69  38  56  22  96  78  61\n",
            "  88  50   1  18  82   9  63  24  71  77  81  76  90  93   3 103  13  80\n",
            "  85  16  15  12  30  23  17  21  79  26   5  95  97  84  14  74 105  86\n",
            "  98  20   6  94   8 102 100   7  89  91  92   4 101  99 114 113 111 129\n",
            " 107 108 106 104 109 120 132 121 126 118] have 118 unique value(s)\n",
            "\n",
            " column num_procedures : ----> [0 5 1 6 2 3 4] have 7 unique value(s)\n",
            "\n",
            " column num_medications : ----> [ 1 18 13 16  8 21 12 28 17 11 15 31  2 23 19  7 20 14 10 22  9 27 25  4\n",
            " 32  6 30 26 24 33  5 39  3 29 61 40 46 41 36 34 35 50 43 42 37 51 38 45\n",
            " 54 52 49 62 55 47 44 53 48 57 59 56 60 63 58 70 67 64 69 65 68 66 81 79\n",
            " 75 72 74] have 75 unique value(s)\n",
            "\n",
            " column number_outpatient : ----> [ 0  2  1  5  7  9  3  8  4 12 11  6 20 15 10 13 14 16 21 35 17 29 36 18\n",
            " 19 27 22 24 42 39 34 26 33 25 23 28 37 38 40] have 39 unique value(s)\n",
            "\n",
            " column number_emergency : ----> [ 0  1  2  4  3  9  5  7  6  8 22 25 10 13 42 16 11 28 15 14 18 12 21 20\n",
            " 19 46 76 37 64 63 54 24 29] have 33 unique value(s)\n",
            "\n",
            " column number_inpatient : ----> [ 0  1  2  3  6  5  4  7  8  9 15 10 11 14 12 13 17 16 21 18 19] have 21 unique value(s)\n",
            "\n",
            " column diag_1 : ----> ['250.83' '276' '648' '8' '197' '414' '428' '398' '434' '250.7' '157'\n",
            " '518' '999' '410' '682' '402' '737' '572' 'V57' '189' '786' '427' '996'\n",
            " '277' '584' '462' '473' '411' '174' '486' '998' '511' '432' '626' '295'\n",
            " '196' '250.6' '618' '182' '845' '423' '808' '250.4' '722' '403' '250.11'\n",
            " '784' '707' '440' '151' '715' '997' '198' '564' '812' '38' '590' '556'\n",
            " '578' '250.32' '433' 'V58' '569' '185' '536' '255' '250.13' '599' '558'\n",
            " '574' '491' '560' '244' '250.03' '577' '730' '188' '824' '250.8' '332'\n",
            " '562' '291' '296' '510' '401' '263' '438' '70' '250.02' '493' '642' '625'\n",
            " '571' '738' '593' '250.42' '807' '456' '446' '575' '250.41' '820' '515'\n",
            " '780' '250.22' '995' '235' '250.82' '721' '787' '162' '724' '282' '514'\n",
            " 'V55' '281' '250.33' '530' '466' '435' '250.12' 'V53' '789' '566' '822'\n",
            " '191' '557' '733' '455' '711' '482' '202' '280' '553' '225' '154' '441'\n",
            " '250.81' '349' '?' '962' '592' '507' '386' '156' '200' '728' '348' '459'\n",
            " '426' '388' '607' '337' '82' '531' '596' '288' '656' '573' '492' '220'\n",
            " '516' '210' '922' '286' '885' '958' '661' '969' '250.93' '227' '112'\n",
            " '404' '823' '532' '416' '346' '535' '453' '250' '595' '211' '303'\n",
            " '250.01' '852' '218' '782' '540' '457' '285' '431' '340' '550' '54' '351'\n",
            " '601' '723' '555' '153' '443' '380' '204' '424' '241' '358' '694' '331'\n",
            " '345' '681' '447' '290' '158' '579' '436' '335' '309' '654' '805' '799'\n",
            " '292' '183' '78' '851' '458' '586' '311' '892' '305' '293' '415' '591'\n",
            " '794' '803' '79' '655' '429' '278' '658' '598' '729' '585' '444' '604'\n",
            " '727' '214' '552' '284' '680' '708' '41' '644' '481' '821' '413' '437'\n",
            " '968' '756' '632' '359' '275' '512' '781' '420' '368' '522' '294' '825'\n",
            " '135' '304' '320' '250.31' '669' '868' '496' '250.43' '826' '567' '3'\n",
            " '203' '53' '251' '565' '161' '495' '49' '250.1' '297' '663' '576' '355'\n",
            " '850' '287' '250.2' '611' '840' '350' '726' '537' '620' '180' '366' '783'\n",
            " '11' '751' '716' '250.3' '199' '464' '580' '836' '664' '283' '813' '966'\n",
            " '289' '965' '184' '480' '608' '333' '972' '212' '117' '788' '924' '959'\n",
            " '621' '238' '785' '714' '942' '250.23' '710' '47' '933' '508' '478' '844'\n",
            " '7' '736' '233' '42' '250.5' '397' '395' '201' '421' '253' '250.92' '600'\n",
            " '494' '977' '39' '659' '312' '614' '647' '652' '646' '274' '861' '425'\n",
            " '527' '451' '485' '217' '250.53' '442' '970' '193' '160' '322' '581'\n",
            " '475' '623' '374' '582' '568' '465' '801' '237' '376' '150' '461' '913'\n",
            " '226' '617' '987' '641' '298' '790' '336' '362' '228' '513' '383' '746'\n",
            " '353' '911' '506' '873' '155' '860' '534' '802' '141' 'V45' '396' '310'\n",
            " '341' '242' '719' '239' '533' '616' '519' '301' 'V66' '5' '989' '230'\n",
            " '385' '300' '853' '871' '570' '848' '463' '9' '934' '250.21' '236' '361'\n",
            " '594' '501' '810' '643' '430' '528' '205' '791' '983' '992' '490' '172'\n",
            " '171' '622' '306' '863' '864' '474' '660' '759' '356' '634' '967' '551'\n",
            " '695' '187' '732' '747' '323' '308' '370' '252' '152' '846' '164' '365'\n",
            " '718' '48' '266' '720' '94' '344' '797' '170' '878' '904' 'V56' '882'\n",
            " '843' '709' '973' '454' '686' '939' '487' '229' '991' '483' '357' '692'\n",
            " '796' '693' '935' '936' '800' '920' 'V26' '261' '307' '262' '250.9' '831'\n",
            " '145' '223' 'V71' '839' '685' 'V54' '35' '34' '179' '964' '136' '324'\n",
            " '389' '815' '334' '143' '526' '588' '192' 'V67' '394' '917' '88' '219'\n",
            " '325' '792' '717' '994' '990' '793' '207' '637' '195' '373' '847' '827'\n",
            " '31' '891' '814' 'V60' '703' '865' '352' '627' '378' '342' '886' '369'\n",
            " '745' '705' '816' '541' '986' '610' '633' '640' '753' '173' '835' '379'\n",
            " '445' '272' '382' '945' '619' '881' '250.52' '866' '405' '916' '215'\n",
            " '893' '75' '671' '928' '906' '897' '725' '867' '115' '890' '734' '521'\n",
            " '674' '470' '834' '146' '696' '524' '980' '691' '384' '142' '879'\n",
            " '250.51' '246' '208' '448' '955' '653' '149' '245' '735' '883' '854'\n",
            " '952' '838' '194' 'V43' '163' '216' '147' '354' '27' '477' '318' '880'\n",
            " '921' '377' '471' '683' '175' '602' '250.91' '982' '706' '375' '417'\n",
            " '131' '347' '870' '148' '862' '61' '817' '914' '360' '684' '314' 'V63'\n",
            " '36' '57' '240' '915' '971' '795' '988' '452' '963' '327' '731' '842'\n",
            " 'V25' '645' '665' '110' '944' '603' '923' '412' '363' '957' '976' '698'\n",
            " '299' '700' '273' '974' '97' '529' '66' '98' '605' '941' '52' '806' '84'\n",
            " '271' '837' '657' '895' '338' '523' '542' '114' '543' '372' 'V70' 'E909'\n",
            " '583' 'V07' '422' '615' '279' '500' '903' '919' '875' '381' '804' '704'\n",
            " '23' '58' '649' '832' '133' '975' '833' '391' '690' '10' 'V51'] have 717 unique value(s)\n",
            "\n",
            " column diag_2 : ----> ['?' '250.01' '250' '250.43' '157' '411' '492' '427' '198' '403' '288'\n",
            " '998' '507' '174' '425' '456' '401' '715' '496' '428' '585' '250.02'\n",
            " '410' '999' '996' '135' '244' '41' '571' '276' '997' '599' '424' '491'\n",
            " '553' '707' '286' '440' '493' '242' '70' 'V45' '250.03' '357' '511' '196'\n",
            " '396' '197' '414' '250.52' '577' '535' '413' '285' '53' '780' '518' '150'\n",
            " '566' '250.6' '867' '486' 'V15' '8' '788' '340' '574' '581' '228' '530'\n",
            " '250.82' '786' '294' '567' '785' '512' '305' '729' '250.51' '280' '648'\n",
            " '560' '618' '444' '38' 'V10' '578' '277' '781' '250.42' '278' '426' '584'\n",
            " '462' '402' '153' '272' '733' '34' '881' '203' '250.41' '250.13' '293'\n",
            " '245' '250.12' '558' '787' '342' '573' '626' '303' '250.53' '458' '710'\n",
            " '415' 'V42' '284' '569' '759' '682' '112' '292' '435' '290' '250.93'\n",
            " '642' '536' '398' '319' '711' 'E878' '446' '255' 'V44' '250.7' '784'\n",
            " '300' '562' '162' '287' '447' '789' '790' '591' '200' '154' '304' '117'\n",
            " '847' '852' '250.83' '250.11' '816' '575' '416' '412' '441' '515' '372'\n",
            " '482' '382' 'V65' '572' '283' '78' '250.81' '576' '432' '595' '295' 'V12'\n",
            " '204' '466' '721' '434' '590' '271' '813' '368' '227' '783' '250.5' '258'\n",
            " '253' '309' '250.91' '519' '333' '459' '250.92' '250.4' '179' '420' '345'\n",
            " '433' '661' '537' '205' '722' '405' '437' '714' '211' 'E812' '263' '202'\n",
            " '397' '250.23' 'E932' '201' '301' '723' '614' '568' '861' 'V57' '724'\n",
            " '189' '297' '453' 'E888' '730' '354' '451' '738' 'E939' '805' 'V43' '155'\n",
            " '910' '218' '358' '220' 'E937' '583' '958' '794' '564' '436' '250.22'\n",
            " '620' '621' '331' '617' '596' '314' '378' '250.8' '625' '478' '731' '172'\n",
            " '404' '681' '470' '279' '281' '531' '443' '799' '337' '311' '719' 'E944'\n",
            " '423' 'E870' '465' 'E849' '782' '481' '480' 'V23' '199' '79' '438' '348'\n",
            " '42' 'E950' '473' '627' '726' '54' '490' '317' '332' '508' '369' '600'\n",
            " '349' '485' '208' '922' '431' '296' 'E934' '753' 'E935' '386' '728' '607'\n",
            " 'E915' '344' '716' '289' '191' '873' '850' '611' '377' '352' '616' 'V17'\n",
            " '136' '455' '933' 'E885' '860' '513' '603' '484' '223' 'V72' '291' '151'\n",
            " 'V58' '550' '510' '891' '185' '592' '791' '138' '598' '336' '362' '217'\n",
            " '825' '298' '821' 'E880' '343' '429' 'E879' '579' '225' '250.9' 'V49'\n",
            " '696' '233' '658' '969' '275' '250.1' '601' '704' '808' 'E890' 'V18'\n",
            " '920' '380' '570' 'E817' '359' '812' '274' 'V14' '324' '758' 'V66' '911'\n",
            " 'E931' 'E924' '593' '792' '727' 'V46' '394' '532' 'V64' '557' '864' '718'\n",
            " 'E942' '807' '604' '924' '820' '580' '273' '241' '282' '824' 'V61' '646'\n",
            " '701' '736' '565' '383' '250.2' 'E947' '452' '872' '905' 'E930' '921'\n",
            " '131' '448' '389' '421' '214' '705' '494' '752' '623' '9' '299' '959'\n",
            " '365' '967' 'E858' '40' '691' '909' '5' '814' '746' '250.31' '556' '680'\n",
            " '745' '351' '306' '110' '695' '552' '346' '918' '882' '947' '520' '188'\n",
            " '31' '356' '737' 'V08' '322' '182' '517' '974' 'E929' 'V53' '912' '252'\n",
            " '608' '516' 'E933' '94' '702' '923' '594' '647' '111' '934' '430' '487'\n",
            " '709' '796' '156' '977' '915' '756' '840' '341' '259' '693' '725' 'V62'\n",
            " '528' '683' '953' '457' '501' 'E900' 'V09' '522' '919' '461' '506' '193'\n",
            " '483' 'E936' '717' '802' '335' 'V54' '320' '945' '906' '239' '454' '826'\n",
            " '823' 'E941' '226' '795' '684' '844' '250.33' '308' '615' '588' '712'\n",
            " '663' '706' '833' '741' '713' '533' 'E884' '586' '555' '755' 'E928' '742'\n",
            " '869' '962' 'V11' '543' '373' '870' '913' '152' '810' '965' '907' '908'\n",
            " '995' '845' '474' '442' '751' '323' '472' '464' '686' '250.32' '540'\n",
            " '251' '811' '652' '659' '851' '422' '815' '307' '325' '463' '992' '692'\n",
            " '521' '917' 'E965' '524' '916' 'E813' '173' '238' '137' '514' '312' '837'\n",
            " '355' '980' '622' '475' '500' '754' '261' '801' '868' '968' '381' '11'\n",
            " '250.21' '694' '610' '734' 'E814' '310' '130' '246' '892' '846' '634'\n",
            " '75' 'E927' 'E905' '183' '379' 'E917' '163' 'E868' '495' '747' '989'\n",
            " 'E854' '240' '832' '605' '602' '644' 'V16' '35' 'V70' '376' '266' 'E918'\n",
            " '619' '477' '656' '46' '883' '171' 'V13' '698' '842' 'E850' '800' '269'\n",
            " '664' 'E887' '952' '164' 'E881' '527' '685' '366' '836' '27' 'V63' '865'\n",
            " '793' '232' '990' '52' '831' '327' '542' '806' '972' '862' 'E829' 'E919'\n",
            " '944' 'E916' '963' '316' '645' '347' 'V85' '374' 'V02' '748' '256' '186'\n",
            " '866' '975' '96' '395' '262' 'E819' '654' '994' '318' 'E826' '879' '674'\n",
            " '641' '822' '145' '797' '353' 'E938' 'E816' '948' '987' '99' '192'\n",
            " '250.3' 'E906' '534' '115' 'E818' 'E980' '360' '338' '529' '871' '750'\n",
            " '212' '302' '955' '141' '88' 'V25' '215' '350' 'V50' 'V03' 'E853' 'E968'\n",
            " 'E882' '140' '703' '991' '893' 'E821' '235' 'V69' '670' '195' 'V55' '388'\n",
            " '268' '894' '114' '260' '853' '7' '880' 'V86' '180' 'E945' '523' '863'\n",
            " '649' '270' '665' '460' '942' '364' '66' 'E883' '123' '884' 'V60' '843'\n",
            " '927'] have 749 unique value(s)\n",
            "\n",
            " column diag_3 : ----> ['?' '255' 'V27' '403' '250' 'V45' '38' '486' '996' '197' '250.6' '427'\n",
            " '627' '414' '416' '714' '428' '582' 'V43' '250.01' '263' '250.42' '276'\n",
            " '482' '401' '250.41' '585' '781' '278' '998' '568' '682' '618' '250.02'\n",
            " '305' '707' '496' '599' '715' '424' '518' '553' '794' '411' 'V42' '531'\n",
            " '511' '490' '562' '250.8' '250.7' '250.52' '784' '491' '581' '420' '8'\n",
            " '724' '730' '789' '131' '250.82' '999' '41' '493' '250.03' '753' '786'\n",
            " '529' 'E888' '425' '595' '303' '560' '711' '492' '332' '296' '438' '362'\n",
            " '250.4' '654' '244' 'V70' '737' '625' '681' '250.51' '404' 'V10' '810'\n",
            " '280' '440' '785' '588' '569' '272' '997' '250.43' '918' '584' '54' '788'\n",
            " '426' '722' '250.92' '196' '461' '535' '787' '891' '284' '458' '648'\n",
            " '780' '182' '285' '593' '413' '664' '564' '201' '356' 'V15' '292' '782'\n",
            " '473' '455' 'E932' '357' '348' '294' '250.23' '459' 'E878' '437' '733'\n",
            " '507' '525' '250.53' '397' '572' '805' '453' '331' '736' '402' '591'\n",
            " '576' '465' '533' '703' '349' '315' '658' '608' '578' '716' '382' '300'\n",
            " '282' '571' '536' '596' '287' '644' 'V11' '558' 'E885' '162' '198' '218'\n",
            " '412' '396' 'V14' '570' '433' 'E934' '882' '288' '577' '443' '729' '836'\n",
            " '295' '799' '281' '304' '153' '410' '616' '250.83' '601' '291' '75' '512'\n",
            " '660' '250.5' '598' '337' '574' '653' 'V58' '311' '415' '386' '602' '790'\n",
            " '112' '873' '620' '436' '70' '155' '138' '663' '530' '710' '42' '342'\n",
            " '250.91' 'E884' '515' '307' '704' '728' '731' '583' '238' '441' '293'\n",
            " '573' '532' '290' '594' '319' '250.13' '250.12' '519' '346' '380' '135'\n",
            " '642' '698' '924' '905' 'E933' '555' '309' 'E879' '286' '565' '752' '580'\n",
            " '446' '444' '344' '252' '35' '813' '394' '301' '575' '258' 'V17' '802'\n",
            " '435' '746' 'V12' '709' '881' 'E935' '139' '250.81' '718' '365' '202'\n",
            " '334' '185' '398' 'V44' '517' 'E849' '614' '466' '626' '250.9' '368'\n",
            " '605' '883' '289' '478' '617' '429' '442' 'V25' '866' '610' '557' '959'\n",
            " 'E942' '94' '920' '345' '313' '379' '79' '516' '586' '821' '600' '242'\n",
            " '373' '592' 'V64' '487' '253' '706' 'E947' '117' '340' 'E950' '656'\n",
            " 'E949' '590' 'V09' '250.22' '934' '694' '203' '250.93' '995' '726' '923'\n",
            " '958' '275' 'E929' '211' 'V18' 'V66' '199' '665' '53' '279' '522' '791'\n",
            " '890' '456' 'E938' 'E816' '122' '721' 'V65' '136' '480' '423' 'E920'\n",
            " '793' '647' '537' '351' '845' '336' '274' '719' '945' '434' '494' '227'\n",
            " '157' '208' '174' 'V57' '812' '734' '150' 'V23' '447' '692' '228' 'V16'\n",
            " '756' '405' 'E928' '823' '552' '528' '389' '240' '454' '792' '366' 'E939'\n",
            " '907' '270' '310' '266' '387' 'E931' '783' '245' '607' '355' 'E930' '705'\n",
            " '372' '369' '611' '283' 'V46' '110' '867' 'E956' '251' '250.2' '820'\n",
            " '712' '695' '567' '343' '723' 'V08' '273' '623' '807' '451' '495' '701'\n",
            " '34' 'V53' '314' '472' 'E945' '11' '189' '534' '354' '333' 'V54' '277'\n",
            " '659' '708' '452' '655' '816' '670' '621' '246' '953' '865' 'E817' '646'\n",
            " '151' '378' '78' '298' '840' '641' '521' '745' '619' '912' '506' 'E904'\n",
            " '259' 'E870' 'E980' '383' '204' '696' '566' '727' '47' 'E943' '358' '191'\n",
            " '965' '921' '432' '27' 'E861' '758' '477' '524' '751' '652' '556' '188'\n",
            " '825' '919' '732' '908' '951' '962' '685' 'E850' 'E944' '527' '341' '693'\n",
            " '250.1' 'V49' '860' '323' 'V55' '579' '508' '969' '205' '462' 'E880'\n",
            " '680' '697' '826' '200' '457' '717' '738' '742' '735' '235' '308' '725'\n",
            " '241' '824' '464' '260' '917' '239' '661' '892' '261' 'E883' '943' '744'\n",
            " 'E936' '796' '318' '967' '350' '854' 'E905' '9' '741' 'E941' '170' '643'\n",
            " '317' '759' '909' 'V22' '831' '713' '180' '801' '360' '359' '501' '335'\n",
            " '250.11' '306' '811' '690' 'V02' '271' '214' '847' '543' 'V63' '906'\n",
            " '842' '686' '445' '808' '861' 'E852' '220' 'E887' 'E858' '915' '970'\n",
            " '256' '747' '395' '243' '815' '481' '5' 'E927' '297' '299' '851' '864'\n",
            " '922' '384' 'E876' '225' '158' 'E937' '871' '88' '966' 'E917' 'E812'\n",
            " 'V62' 'E924' '604' '233' 'E916' '377' '797' 'V72' '172' '7' '421' '852'\n",
            " 'E819' '972' '916' '956' '3' 'E965' '173' '193' '154' '347' '862' '250.3'\n",
            " '987' '470' '262' 'E855' '161' '115' '179' '910' '312' '17' '460' '265'\n",
            " '66' '163' 'V60' '870' 'E906' '514' '944' '844' '417' '152' '183' '991'\n",
            " '216' '385' '164' '935' '510' '814' '485' '850' '250.21' 'E919' '872'\n",
            " '195' '431' '597' '933' '171' '884' '156' '868' '483' 'E815' '542' 'V61'\n",
            " '853' '374' 'E881' 'E882' 'E822' '192' '754' '327' '523' '500' 'V85'\n",
            " '992' '657' '684' '603' 'E826' '550' '913' '376' '755' '361' '186' '720'\n",
            " '250.31' '674' '911' 'E813' '226' '365.44' 'E818' '146' '955' 'E894'\n",
            " '475' 'V13' '880' '930' 'E915' '381' '132' '353' '795' '893' 'V01' 'E853'\n",
            " '863' '540' 'E828' '430' '800' 'E865' '148' 'E946' '822' '879' '848'\n",
            " 'V86' 'V03' '338' '989' '388' 'E966' '111' 'E922' '123' '757' 'E901'\n",
            " '141' '268' 'E892' '649' '702' '948' '223' '484' 'E886' '838' '928' '236'\n",
            " '624' '837' 'E987' 'V07' '841' '622' 'E912' 'E955' '463' 'V06' 'E864'\n",
            " '217' '877' '391' 'E825' '952' '669' '875' 'E900' '215' '538' '980' '834'\n",
            " '448' '175' '49' '876' '230' '57' 'E854' '942' '14' '750' '370' '671'\n",
            " '971'] have 790 unique value(s)\n",
            "\n",
            " column number_diagnoses : ----> [ 1  9  6  7  5  8  3  4  2 16 12 13 15 10 11 14] have 16 unique value(s)\n",
            "\n",
            " column max_glu_serum : ----> ['None' '>300' 'Norm' '>200'] have 4 unique value(s)\n",
            "\n",
            " column A1Cresult : ----> ['None' '>7' '>8' 'Norm'] have 4 unique value(s)\n",
            "\n",
            " column metformin : ----> ['No' 'Steady' 'Up' 'Down'] have 4 unique value(s)\n",
            "\n",
            " column repaglinide : ----> ['No' 'Up' 'Steady' 'Down'] have 4 unique value(s)\n",
            "\n",
            " column nateglinide : ----> ['No' 'Steady' 'Down' 'Up'] have 4 unique value(s)\n",
            "\n",
            " column chlorpropamide : ----> ['No' 'Steady' 'Down' 'Up'] have 4 unique value(s)\n",
            "\n",
            " column glimepiride : ----> ['No' 'Steady' 'Down' 'Up'] have 4 unique value(s)\n",
            "\n",
            " column acetohexamide : ----> ['No' 'Steady'] have 2 unique value(s)\n",
            "\n",
            " column glipizide : ----> ['No' 'Steady' 'Up' 'Down'] have 4 unique value(s)\n",
            "\n",
            " column glyburide : ----> ['No' 'Steady' 'Up' 'Down'] have 4 unique value(s)\n",
            "\n",
            " column tolbutamide : ----> ['No' 'Steady'] have 2 unique value(s)\n",
            "\n",
            " column pioglitazone : ----> ['No' 'Steady' 'Up' 'Down'] have 4 unique value(s)\n",
            "\n",
            " column rosiglitazone : ----> ['No' 'Steady' 'Up' 'Down'] have 4 unique value(s)\n",
            "\n",
            " column acarbose : ----> ['No' 'Steady' 'Up' 'Down'] have 4 unique value(s)\n",
            "\n",
            " column miglitol : ----> ['No' 'Steady' 'Down' 'Up'] have 4 unique value(s)\n",
            "\n",
            " column troglitazone : ----> ['No' 'Steady'] have 2 unique value(s)\n",
            "\n",
            " column tolazamide : ----> ['No' 'Steady' 'Up'] have 3 unique value(s)\n",
            "\n",
            " column examide : ----> ['No'] have 1 unique value(s)\n",
            "\n",
            " column citoglipton : ----> ['No'] have 1 unique value(s)\n",
            "\n",
            " column insulin : ----> ['No' 'Up' 'Steady' 'Down'] have 4 unique value(s)\n",
            "\n",
            " column glyburide-metformin : ----> ['No' 'Steady' 'Down' 'Up'] have 4 unique value(s)\n",
            "\n",
            " column glipizide-metformin : ----> ['No' 'Steady'] have 2 unique value(s)\n",
            "\n",
            " column glimepiride-pioglitazone : ----> ['No' 'Steady'] have 2 unique value(s)\n",
            "\n",
            " column metformin-rosiglitazone : ----> ['No' 'Steady'] have 2 unique value(s)\n",
            "\n",
            " column metformin-pioglitazone : ----> ['No' 'Steady'] have 2 unique value(s)\n",
            "\n",
            " column change : ----> ['No' 'Ch'] have 2 unique value(s)\n",
            "\n",
            " column diabetesMed : ----> ['No' 'Yes'] have 2 unique value(s)\n",
            "\n",
            " column readmitted : ----> ['NO' '>30' '<30'] have 3 unique value(s)\n"
          ]
        }
      ]
    },
    {
      "cell_type": "markdown",
      "source": [
        "Missing values in this dataset are represented by ‘?’\n",
        "\n",
        "Several columns have missing values.\n",
        " "
      ],
      "metadata": {
        "id": "6JKp5VAZmpM_"
      }
    },
    {
      "cell_type": "code",
      "source": [
        "# calculate missing values, which indicates as '?'\n",
        "for col in diabetic_data.columns:\n",
        "    if diabetic_data[col].dtype == object:\n",
        "         print(col,diabetic_data[col][diabetic_data[col] == '?'].count())"
      ],
      "metadata": {
        "colab": {
          "base_uri": "https://localhost:8080/"
        },
        "id": "TbfXsVJe-zue",
        "outputId": "e007831d-295c-4c93-db51-04e1c6d168df"
      },
      "execution_count": null,
      "outputs": [
        {
          "output_type": "stream",
          "name": "stdout",
          "text": [
            "race 2273\n",
            "gender 0\n",
            "age 0\n",
            "weight 98569\n",
            "payer_code 40256\n",
            "medical_specialty 49949\n",
            "diag_1 21\n",
            "diag_2 358\n",
            "diag_3 1423\n",
            "max_glu_serum 0\n",
            "A1Cresult 0\n",
            "metformin 0\n",
            "repaglinide 0\n",
            "nateglinide 0\n",
            "chlorpropamide 0\n",
            "glimepiride 0\n",
            "acetohexamide 0\n",
            "glipizide 0\n",
            "glyburide 0\n",
            "tolbutamide 0\n",
            "pioglitazone 0\n",
            "rosiglitazone 0\n",
            "acarbose 0\n",
            "miglitol 0\n",
            "troglitazone 0\n",
            "tolazamide 0\n",
            "examide 0\n",
            "citoglipton 0\n",
            "insulin 0\n",
            "glyburide-metformin 0\n",
            "glipizide-metformin 0\n",
            "glimepiride-pioglitazone 0\n",
            "metformin-rosiglitazone 0\n",
            "metformin-pioglitazone 0\n",
            "change 0\n",
            "diabetesMed 0\n",
            "readmitted 0\n"
          ]
        }
      ]
    },
    {
      "cell_type": "code",
      "source": [
        "print('gender', diabetic_data['gender'][diabetic_data['gender'] == 'Unknown/Invalid'].count())"
      ],
      "metadata": {
        "colab": {
          "base_uri": "https://localhost:8080/"
        },
        "id": "CB7bns-JCZxN",
        "outputId": "157c9729-c8a0-4035-868d-7fa1d433e108"
      },
      "execution_count": null,
      "outputs": [
        {
          "output_type": "stream",
          "name": "stdout",
          "text": [
            "gender 3\n"
          ]
        }
      ]
    },
    {
      "cell_type": "markdown",
      "source": [
        "|                   |   missing_values |   percent_missing |\n",
        "|:------------------|-----------------:|------------------:|\n",
        "| weight            |            98569 |             96.86 |\n",
        "| medical_specialty |            49949 |             49.08 |\n",
        "| payer_code        |            40256 |             39.56 |\n",
        "| race              |             2273 |              2.23 |\n",
        "| diag_3            |             1423 |              1.42 |\n",
        "| diag_2            |              358 |              0.35 |\n",
        "| diag_1            |               21 |              0.02 |\n",
        "| gender            |                3 |              0.00 |\n"
      ],
      "metadata": {
        "id": "dgJaOYhxtStR"
      }
    },
    {
      "cell_type": "markdown",
      "source": [
        "#**Preprocessing**"
      ],
      "metadata": {
        "id": "HaR0kfAKGnJj"
      }
    },
    {
      "cell_type": "markdown",
      "source": [
        "###**Dealing with missing Values**"
      ],
      "metadata": {
        "id": "d5qAN4svfIl6"
      }
    },
    {
      "cell_type": "markdown",
      "source": [
        "Weight is missing 96% records. \n",
        "\n",
        "Payer code and Medical Specialty of treating physician also have 40–50% missing\n",
        "values.\n",
        "\n",
        "We decided to drop the records."
      ],
      "metadata": {
        "id": "Jun3Yim0H7Vj"
      }
    },
    {
      "cell_type": "code",
      "source": [
        "df = df.drop(['weight','payer_code','medical_specialty'], axis = 1)"
      ],
      "metadata": {
        "id": "RzlIBDvIGwez"
      },
      "execution_count": null,
      "outputs": []
    },
    {
      "cell_type": "markdown",
      "source": [
        "Primary (diag_1), Secondary (diag_2) and Additional (diag_3) diagnoses were have very few missing values. Technically, if all three are missing, that’s bad data. So we only drop those records where all three diagnoses are missing.\n",
        "\n",
        "Gender has only 3 missing or invalid values so we decided to drop these records.\n",
        "\n",
        "Also, one more cleaning step that depends on understanding the data and some common sense: since we are trying to predict readmissions, those patients who died during this hospital admission or addmitted to a hospice, have zero probability of readmission. So we removed those records (discharge_disposition = 11,13,14,19,20,21).\n"
      ],
      "metadata": {
        "id": "U6FfiF_dLKG4"
      }
    },
    {
      "cell_type": "code",
      "source": [
        "drop_Idx = set(df[(df['diag_1'] == '?') & (df['diag_2'] == '?') & (df['diag_3'] == '?')].index)\n",
        "drop_Idx = drop_Idx.union(set(df['gender'][df['gender'] == 'Unknown/Invalid'].index))\n",
        "drop_Idx = drop_Idx.union(set(df[df['discharge_disposition_id'] == 11].index))\n",
        "drop_Idx = drop_Idx.union(set(df[df['discharge_disposition_id'] == 13].index))\n",
        "drop_Idx = drop_Idx.union(set(df[df['discharge_disposition_id'] == 14].index))\n",
        "drop_Idx = drop_Idx.union(set(df[df['discharge_disposition_id'] == 19].index))\n",
        "drop_Idx = drop_Idx.union(set(df[df['discharge_disposition_id'] == 20].index))\n",
        "drop_Idx = drop_Idx.union(set(df[df['discharge_disposition_id'] == 21].index))\n",
        "new_Idx = list(set(df.index) - set(drop_Idx))\n",
        "df = df.iloc[new_Idx]\n",
        "#df.shape\n",
        "#(99340, 47)"
      ],
      "metadata": {
        "id": "KkGsywDZNXM2"
      },
      "execution_count": null,
      "outputs": []
    },
    {
      "cell_type": "markdown",
      "source": [
        "features diag_1 , diag_2, diag_3 have mixed type values like 11, 'V25' 'V26' 'V43' So we are replacing missing valuse with most common value"
      ],
      "metadata": {
        "id": "oqILcC0CBPtg"
      }
    },
    {
      "cell_type": "code",
      "source": [
        "diag_1 = Counter(list(df['diag_1'])).most_common(1)[0][0]\n",
        "diag_2 = Counter(list(df['diag_2'])).most_common(1)[0][0]\n",
        "diag_3 = Counter(list(df['diag_3'])).most_common(1)[0][0]\n",
        "\n",
        "df['diag_1'] = df['diag_1'].apply(lambda x : diag_1 if x == '?' else x)\n",
        "df['diag_2'] = df['diag_1'].apply(lambda x : diag_2 if x == '?' else x)\n",
        "df['diag_3'] = df['diag_3'].apply(lambda x : diag_3 if x == '?' else x)"
      ],
      "metadata": {
        "id": "zxVqD4n2ARO4"
      },
      "execution_count": null,
      "outputs": []
    },
    {
      "cell_type": "markdown",
      "source": [
        " two variables citoglipton and examide all records have the same value"
      ],
      "metadata": {
        "id": "uuoy5QYiXz6m"
      }
    },
    {
      "cell_type": "code",
      "source": [
        "df = df.drop(['citoglipton', 'examide'], axis = 1)"
      ],
      "metadata": {
        "id": "b5b2CaebXWIm"
      },
      "execution_count": null,
      "outputs": []
    },
    {
      "cell_type": "markdown",
      "source": [
        "###**Feature Creation**"
      ],
      "metadata": {
        "id": "oNDg7Omkfv-n"
      }
    },
    {
      "cell_type": "markdown",
      "source": [
        "The data contains variables for number of inpatient (admissions), emergency room visits and outpatient visits for a given patient in the previous one year. These measures of how much hospital/clinic services a person has used in the past year. We added these three to create a new variable called service usage "
      ],
      "metadata": {
        "id": "zQYWNLjqZ1bl"
      }
    },
    {
      "cell_type": "code",
      "source": [
        "df['Health_service_usage'] = df['number_outpatient'] +\\\n",
        "df['number_emergency'] + df['number_inpatient']"
      ],
      "metadata": {
        "id": "fq9Y39MDYfRk"
      },
      "execution_count": null,
      "outputs": []
    },
    {
      "cell_type": "code",
      "source": [
        "keys = ['metformin', 'repaglinide', 'nateglinide', 'chlorpropamide', 'glimepiride', 'glipizide', 'glyburide', \n",
        "        'pioglitazone', 'rosiglitazone', 'acarbose', 'miglitol', 'insulin', 'glyburide-metformin', 'tolazamide', \n",
        "        'metformin-pioglitazone','metformin-rosiglitazone', 'glimepiride-pioglitazone', \n",
        "        'glipizide-metformin', 'troglitazone', 'tolbutamide', 'acetohexamide']"
      ],
      "metadata": {
        "id": "WbDPH4PJAsi3"
      },
      "execution_count": null,
      "outputs": []
    },
    {
      "cell_type": "code",
      "source": [
        "keys = ['metformin', 'repaglinide', 'nateglinide', 'chlorpropamide', 'glimepiride', 'glipizide', 'glyburide', 'pioglitazone', 'rosiglitazone', 'acarbose', 'miglitol', 'insulin', 'glyburide-metformin', 'tolazamide', 'metformin-pioglitazone','metformin-rosiglitazone', 'glimepiride-pioglitazone', 'glipizide-metformin', 'troglitazone', 'tolbutamide', 'acetohexamide']\n",
        "for col in keys:\n",
        "    colname = str(col) + 'temp'\n",
        "    df[colname] = df[col].apply(lambda x: 0 if (x == 'No' or x == 'Steady') else 1)\n",
        "df['numchange'] = 0\n",
        "for col in keys:\n",
        "    colname = str(col) + 'temp'\n",
        "    df['numchange'] = df['numchange'] + df[colname]\n",
        "    del df[colname]"
      ],
      "metadata": {
        "id": "tr2mhfeC7XWx"
      },
      "execution_count": null,
      "outputs": []
    },
    {
      "cell_type": "code",
      "source": [
        "df['numchange'].value_counts()"
      ],
      "metadata": {
        "colab": {
          "base_uri": "https://localhost:8080/"
        },
        "id": "er90q5Ip9kMq",
        "outputId": "f6b0c569-bb00-4988-bbd4-10bf866f3db1"
      },
      "execution_count": null,
      "outputs": [
        {
          "output_type": "execute_result",
          "data": {
            "text/plain": [
              "0    72320\n",
              "1    25609\n",
              "2     1299\n",
              "3      107\n",
              "4        5\n",
              "Name: numchange, dtype: int64"
            ]
          },
          "metadata": {},
          "execution_count": 19
        }
      ]
    },
    {
      "cell_type": "markdown",
      "source": [
        "###**Dealing with Categorical values**"
      ],
      "metadata": {
        "id": "Mh_VQQzcgfIQ"
      }
    },
    {
      "cell_type": "markdown",
      "source": [
        "The diag_1 , diag_2 , diag_3 Features are categorical features but they have \n",
        "\n",
        "lots unique values,We will use the International Classification of Diseases \n",
        "\n",
        "Given By the Centers for Disease Control and Prevention In order to create \n",
        "\n",
        "diagnostic groups with a similar medical background."
      ],
      "metadata": {
        "id": "8rT9sOmWg5iq"
      }
    },
    {
      "cell_type": "markdown",
      "source": [
        "Circulatory --> 390–459, 785 --> Diseases of the circulatory system\n",
        "\n",
        "Respiratory --> 460–519, 786 --> Diseases of the respiratory system\n",
        "\n",
        "Digestive --> 520–579, 787 --> Diseases of the digestive system\n",
        "\n",
        "Diabetes --> 250.xx --> Diabetes mellitus\n",
        "\n",
        "Injury --> 800–999 --> Injury and poisoning\n",
        "\n",
        "Musculoskeletal --> 710–739 --> Diseases of the musculoskeletal system and connective tissue\n",
        "\n",
        "Genitourinary --> 580–629, 788 --> Diseases of the genitourinary system\n",
        "\n",
        "Neoplasms --> 140–239 --> Neoplasms\n",
        "\n",
        "Pregnecy --> 630–679 --> Complications of pregnancy, childbirth, and the puerperium"
      ],
      "metadata": {
        "id": "sPndQA-oMSUp"
      }
    },
    {
      "cell_type": "code",
      "source": [
        "df['diag_1'].nunique()"
      ],
      "metadata": {
        "colab": {
          "base_uri": "https://localhost:8080/"
        },
        "id": "teJgDAd0XEGk",
        "outputId": "f9086ccc-f141-4ff5-eb6f-91150fcdf257"
      },
      "execution_count": null,
      "outputs": [
        {
          "output_type": "execute_result",
          "data": {
            "text/plain": [
              "715"
            ]
          },
          "metadata": {},
          "execution_count": 20
        }
      ]
    },
    {
      "cell_type": "code",
      "source": [
        "print(df['diag_1'].nunique())  \n",
        "print(df['diag_2'].nunique())  \n",
        "print(df['diag_3'].nunique())  \n",
        "\n",
        "df['diag_1'] = df['diag_1'].apply(lambda x : 'other' if (str(x).find('V') != -1 or str(x).find('E') != -1)  \n",
        "                                        else ('circulatory' if int(float(x)) in range(390, 460) or int(float(x)) == 785\n",
        "                                        else     ('respiratory' if int(float(x)) in range(460, 520) or int(float(x)) == 786\n",
        "                                        else     ('digestive'   if int(float(x)) in range(520, 580) or int(float(x)) == 787\n",
        "                                        else     ('diabetes'    if int(float(x)) == 250\n",
        "                                        else     ('injury'      if int(float(x)) in range(800, 1000)\n",
        "                                        else ('musculoskeletal' if int(float(x)) in range(710, 740)\n",
        "                                        else ('genitourinary'   if int(float(x)) in range(580, 630) or int(float(x)) == 788\n",
        "                                        else ('neoplasms'       if int(float(x)) in range(140, 240)\n",
        "                                        else ('pregnecy'        if int(float(x)) in range(630, 680)\n",
        "                                        else 'other'))))))))))\n",
        "\n",
        "df['diag_2'] = df['diag_2'].apply(lambda x : 'other' if (str(x).find('V') != -1 or str(x).find('E') != -1)  \n",
        "                                        else ('circulatory' if int(float(x)) in range(390, 460) or int(float(x)) == 785\n",
        "                                        else     ('respiratory' if int(float(x)) in range(460, 520) or int(float(x)) == 786\n",
        "                                        else     ('digestive'   if int(float(x)) in range(520, 580) or int(float(x)) == 787\n",
        "                                        else     ('diabetes'    if int(float(x)) == 250\n",
        "                                        else     ('injury'      if int(float(x)) in range(800, 1000)\n",
        "                                        else ('musculoskeletal' if int(float(x)) in range(710, 740)\n",
        "                                        else ('genitourinary'   if int(float(x)) in range(580, 630) or int(float(x)) == 788\n",
        "                                        else ('neoplasms'       if int(float(x)) in range(140, 240)\n",
        "                                        else ('pregnecy'        if int(float(x)) in range(630, 680)\n",
        "                                        else 'other'))))))))))\n",
        "\n",
        "df['diag_3'] = df['diag_3'].apply(lambda x : 'other' if (str(x).find('V') != -1 or str(x).find('E') != -1)  \n",
        "                                        else ('circulatory' if int(float(x)) in range(390, 460) or int(float(x)) == 785\n",
        "                                        else     ('respiratory' if int(float(x)) in range(460, 520) or int(float(x)) == 786\n",
        "                                        else     ('digestive'   if int(float(x)) in range(520, 580) or int(float(x)) == 787\n",
        "                                        else     ('diabetes'    if int(float(x)) == 250\n",
        "                                        else     ('injury'      if int(float(x)) in range(800, 1000)\n",
        "                                        else ('musculoskeletal' if int(float(x)) in range(710, 740)\n",
        "                                        else ('genitourinary'   if int(float(x)) in range(580, 630) or int(float(x)) == 788\n",
        "                                        else ('neoplasms'       if int(float(x)) in range(140, 240)\n",
        "                                        else ('pregnecy'        if int(float(x)) in range(630, 680)\n",
        "                                        else 'other'))))))))))  \n",
        "\n",
        "print(np.unique(df['diag_1']), '\\n')           \n",
        "print(np.unique(df['diag_2']), '\\n')\n",
        "print(np.unique(df['diag_3']), '\\n')         "
      ],
      "metadata": {
        "colab": {
          "base_uri": "https://localhost:8080/"
        },
        "id": "kaHZec7zgNrT",
        "outputId": "5aaec0db-9c76-4239-d763-06b4bf57f389"
      },
      "execution_count": null,
      "outputs": [
        {
          "output_type": "stream",
          "name": "stdout",
          "text": [
            "715\n",
            "715\n",
            "786\n",
            "['circulatory' 'diabetes' 'digestive' 'genitourinary' 'injury'\n",
            " 'musculoskeletal' 'neoplasms' 'other' 'pregnecy' 'respiratory'] \n",
            "\n",
            "['circulatory' 'diabetes' 'digestive' 'genitourinary' 'injury'\n",
            " 'musculoskeletal' 'neoplasms' 'other' 'pregnecy' 'respiratory'] \n",
            "\n",
            "['circulatory' 'diabetes' 'digestive' 'genitourinary' 'injury'\n",
            " 'musculoskeletal' 'neoplasms' 'other' 'pregnecy' 'respiratory'] \n",
            "\n"
          ]
        }
      ]
    },
    {
      "cell_type": "markdown",
      "source": [
        "The age feature is not categorical, but ordinal. We convert it to numbers and\n",
        "\n",
        " treat it as a numerical attribute.\n",
        "\n",
        " We convert an age attribute to the average of each group"
      ],
      "metadata": {
        "id": "JovwxDH7-q4v"
      }
    },
    {
      "cell_type": "code",
      "source": [
        "ageDict = {'[0-10)' : 5,\n",
        "'[10-20)' : 15,\n",
        "'[20-30)' : 25, \n",
        "'[30-40)' : 35, \n",
        "'[40-50)' : 45, \n",
        "'[50-60)' : 55,\n",
        "'[60-70)' : 65, \n",
        "'[70-80)' : 75,\n",
        "'[80-90)' : 85,\n",
        "'[90-100)' : 95}\n",
        "\n",
        "df['age'] = df['age'].apply(lambda x : ageDict[x])\n"
      ],
      "metadata": {
        "id": "Zsv1jbAO8wRz"
      },
      "execution_count": null,
      "outputs": []
    },
    {
      "cell_type": "markdown",
      "source": [
        "Admission Source ID can be converted into small number of categories\n",
        "\n",
        "1 = [2, 3] - Non-Health Care Facility(Physician Referral)\n",
        "\n",
        "4 = [5, 6, 10, 22, 25] - Transfer from hospital (Different Facility)\n",
        "\n",
        "9 = [15, 17, 20, 21] - Information not available \n",
        "\n",
        "11 = [13, 14] - Abnormal birth or birth in abnormal conditions  (Premature delivery/Sick baby/Extramural birth)"
      ],
      "metadata": {
        "id": "O4eTz2adAAxG"
      }
    },
    {
      "cell_type": "markdown",
      "source": [
        "Type ID can be converted into small number of categories\n",
        "\n",
        "1 = [2, 7] - Emergency \n",
        "\n",
        "3 = [3] - Elective \n",
        "\n",
        "4 = [4] - New Born\n",
        "\n",
        "9 =  [5, 6, 8] - Not Mapped/null\n"
      ],
      "metadata": {
        "id": "yPbsxnJZ6w5U"
      }
    },
    {
      "cell_type": "markdown",
      "source": [
        "Discharge Disposition ID has lots of distinct we will convert them into small number of categories using the cdc \tDischarge Disposition system. <br>\n",
        "\n",
        "1 = [6, 8, 9]  -  home or self care <br>\n",
        "2 = [3, 4, 5, 22, 23, 24]  - Discharged/transferred to a short-term general hospital for inpatient care <br>\n",
        "10 = [12, 15, 16, 17] - Discharged/transferred to a nursing facility  <br>\n",
        "18 = [25, 26] - Discharged/transferred to another Type of Health Care Institution not Defined Elsewhere\" <br>\n",
        "</p>"
      ],
      "metadata": {
        "id": "OcHMJmsL0Lzp"
      }
    },
    {
      "cell_type": "code",
      "source": [
        "df['gender'] = df['gender'].replace('Male', 1)\n",
        "df['gender'] = df['gender'].replace('Female', 0)\n",
        "\n",
        "df['admission_source_id'] = df['admission_source_id'].apply(lambda x : 1 if int(x) in [2, 3]\n",
        "                                                            else ( 4 if int(x) in [5, 6, 10, 22, 25]\n",
        "                                                            else ( 9 if int(x) in [15, 17, 20, 21]\n",
        "                                                            else ( 11 if int(x) in [13, 14]\n",
        "                                                            else int(x) ))))\n",
        "\n",
        "df['admission_type_id'] = df['admission_type_id'].apply(lambda x : 1 if int(x) in [2, 7]\n",
        "                                                            else ( 9 if int(x) in [5, 6, 8]\n",
        "                                                            else int(x) ))\n",
        "\n",
        "df['discharge_disposition_id'] = df['discharge_disposition_id'].apply(lambda x : 1 if int(x) in [6, 8, 9] \n",
        "                                                                           else ( 2 if int(x) in [3, 4, 5, 14, 22, 23, 24]\n",
        "                                                                           else ( 10 if int(x) in [12, 15, 16, 17]\n",
        "                                                                           else ( 18 if int(x) in [25, 26] \n",
        "                                                                           else int(x) ))))\n",
        "\n",
        "print(np.unique(df['discharge_disposition_id']))\n",
        "print(np.unique(df['admission_type_id']))\n",
        "print(np.unique(df['admission_source_id']))"
      ],
      "metadata": {
        "id": "9ZMJo4z507Hg",
        "colab": {
          "base_uri": "https://localhost:8080/"
        },
        "outputId": "fa5d5368-77db-4e25-9a52-1b8d276bf3df"
      },
      "execution_count": null,
      "outputs": [
        {
          "output_type": "stream",
          "name": "stdout",
          "text": [
            "[ 1  2  7 10 18 27 28]\n",
            "[1 3 4 9]\n",
            "[ 1  4  7  8  9 11]\n"
          ]
        }
      ]
    },
    {
      "cell_type": "markdown",
      "source": [
        "change :\n",
        "Reflects whether there has been a change in the patient's medication since the \n",
        "\n",
        "previous visit.\n",
        "\n",
        "change = 1\n",
        "\n",
        "No change = 0 "
      ],
      "metadata": {
        "id": "vWACnpGYJ0BU"
      }
    },
    {
      "cell_type": "markdown",
      "source": [
        "diabetesMed — Indicates if any diabetes medication was prescribed\n",
        "\n",
        "No = -1\n",
        "\n",
        "Yes = 1"
      ],
      "metadata": {
        "id": "x8FQHH0SNQFk"
      }
    },
    {
      "cell_type": "markdown",
      "source": [
        "Glucose Serum test :\n",
        "A blood glucose test is used to find out if your blood sugar levels are in the healthy range. \n",
        "\n",
        "It is often used to help diagnose and monitor diabetes.\n",
        "\n",
        "'>200' : 200 = indicates diabetes\n",
        "\n",
        "'>300' : 300 = Indicates diabetes\n",
        "\n",
        "'Norm' : 100 = Normal\n",
        "\n",
        "'None' : 0 = test was not taken"
      ],
      "metadata": {
        "id": "CeEX9kK7K_ik"
      }
    },
    {
      "cell_type": "markdown",
      "source": [
        "A1C test :\n",
        "\n",
        "An A1C test is a blood test that reflects your average blood glucose levels \n",
        "\n",
        "over the past 3 months\n",
        "\n",
        "'>7' : 7\n",
        "\n",
        "'>8' : 8\n",
        "\n",
        "Norm : 5 = Normal\n",
        "\n",
        "None : 0 = Test was not taken"
      ],
      "metadata": {
        "id": "IkaPSURTLJWj"
      }
    },
    {
      "cell_type": "code",
      "source": [
        "df['change'] = df['change'].apply(lambda x : 1 if x == 'Ch'\n",
        "                                                 else 0)\n",
        "\n",
        "df['diabetesMed'] = df['diabetesMed'].apply(lambda x : 0 if x == 'No'\n",
        "                                            else 1) \n",
        "\n",
        "df['max_glu_serum'] = df['max_glu_serum'].apply(lambda x : 1 if x == '>200' \n",
        "                                                            else ( 1 if x == '>300'                                                          \n",
        "                                                            else ( 0 if x == 'Norm'\n",
        "                                                            else  -99)))\n",
        "\n",
        "df['A1Cresult'] = df['A1Cresult'].apply(lambda x : 1 if x == '>7' \n",
        "                                                         else (1 if  x == '>8'                                                        \n",
        "                                                         else ( 0 if x == 'Norm'\n",
        "                                                         else  -99)))\n",
        "print(df['change'].unique())\n",
        "print(df['diabetesMed'].unique())\n",
        "print(df['max_glu_serum'].unique())\n",
        "print(df['A1Cresult'].unique())"
      ],
      "metadata": {
        "id": "OeSHYArg9aW0",
        "colab": {
          "base_uri": "https://localhost:8080/"
        },
        "outputId": "b7208da9-37fb-4195-96ce-023bbfc2d80b"
      },
      "execution_count": null,
      "outputs": [
        {
          "output_type": "stream",
          "name": "stdout",
          "text": [
            "[0 1]\n",
            "[0 1]\n",
            "[-99   1   0]\n",
            "[-99   1   0]\n"
          ]
        }
      ]
    },
    {
      "cell_type": "markdown",
      "source": [
        "Redmitted column has the following values:\n",
        "\n",
        "'>30' that is patient readmitted after 30 days\n",
        "\n",
        " 'NO' that is patient not readmitted at all\n",
        "\n",
        "'<30' that is patient readmitted before 30 days\n",
        " \n",
        "in our data we  replace 'NO' with 0 and '>30'/<30' with 1"
      ],
      "metadata": {
        "id": "d3gl_hnnmapX"
      }
    },
    {
      "cell_type": "code",
      "source": [
        "df['readmitted'].unique()\n",
        "df = df.replace({\"NO\":0,\n",
        "                         \"<30\":1,\n",
        "                         \">30\":1})\n",
        "print(np.unique(df['readmitted']))"
      ],
      "metadata": {
        "colab": {
          "base_uri": "https://localhost:8080/"
        },
        "id": "u3Dbn08H5lmc",
        "outputId": "39b410ce-ed44-4adf-df35-271740632786"
      },
      "execution_count": null,
      "outputs": [
        {
          "output_type": "stream",
          "name": "stdout",
          "text": [
            "[0 1]\n"
          ]
        }
      ]
    },
    {
      "cell_type": "markdown",
      "source": [
        " 24 features for medications that Indicates whether the dosage for the \n",
        "\n",
        "medicines was changed in any manner during the encounter. \n",
        "\n",
        "“up” = 1, if the dosage was increased during the encounter.\n",
        "\n",
        "“down” = -1, if the dosage was decreased\n",
        " \n",
        "“steady” =  0, if the dosage did not change\n",
        "\n",
        "“no” = 0, if the drug was not prescribed"
      ],
      "metadata": {
        "id": "4jHGmAAGN4ZX"
      }
    },
    {
      "cell_type": "code",
      "source": [
        "for col in [\"metformin\", \"repaglinide\", \"nateglinide\", \"chlorpropamide\", \"glimepiride\", \"acetohexamide\", \"glipizide\", \"glyburide\", \"tolbutamide\", \"pioglitazone\", \"rosiglitazone\", \"acarbose\", \"miglitol\", \"troglitazone\", \"tolazamide\",\"insulin\", \"glyburide-metformin\", \"glipizide-metformin\", \"glimepiride-pioglitazone\", \"metformin-rosiglitazone\", \"metformin-pioglitazone\"]:\n",
        "    df[col] = df[col].apply(lambda x : 1 if x == 'Up' \n",
        "                                              else ( 0 if x == 'Down'                                                          \n",
        "                                              else (0 if x == 'Steady'\n",
        "                                              else  0)))\n",
        "    \n",
        "print(np.unique(df[[\"metformin\", \"repaglinide\", \"nateglinide\", \"chlorpropamide\", \"glimepiride\", \"acetohexamide\", \"glipizide\", \"glyburide\", \"tolbutamide\", \"pioglitazone\", \"rosiglitazone\", \"acarbose\", \"miglitol\", \"troglitazone\", \"tolazamide\", \"insulin\",\\\n",
        "                              \"glyburide-metformin\", \"glipizide-metformin\", \"glimepiride-pioglitazone\", \"metformin-rosiglitazone\", \"metformin-pioglitazone\"]]))\n"
      ],
      "metadata": {
        "id": "tZ3mpDYL6k7Y",
        "colab": {
          "base_uri": "https://localhost:8080/"
        },
        "outputId": "649ada1c-a13d-4aed-b782-2206688a40dd"
      },
      "execution_count": null,
      "outputs": [
        {
          "output_type": "stream",
          "name": "stdout",
          "text": [
            "[0 1]\n"
          ]
        }
      ]
    },
    {
      "cell_type": "markdown",
      "source": [
        "###**Drug groups information**"
      ],
      "metadata": {
        "id": "uX-yIfZ9CZaJ"
      }
    },
    {
      "cell_type": "markdown",
      "source": [
        "**Sulfonylureas** are used primarily for the treatment of diabetes mellitus type 2. They act by increasing insulin release from the beta cells in the pancreas.\n",
        "The drugs in this category are divided into two groups:\n",
        "\n",
        "Sulfonylureas_gen1 are First-generation drug - approved before 2000\n",
        "\n",
        "Sulfonylureas_gen1 = chlorpropamide, tolazamide, tolbutamide, acetohexamide\n",
        "\n",
        "Sulfonylureas_gen2 are Second-generation drugs - were approved after 2000\n",
        "\n",
        "Sulfonylureas_gen2 = glimepiride, glipizide, glyburide\n",
        "\n",
        "The main difference between the first- and second-generation sulfonylureas is\n",
        "in the way they are 'eliminated from the body. As a consequence, \n",
        "second-generation sulfonylureas are usually taken less 'frequently each day \n",
        "than first-generation sulfonylureas and generally are preferred when there is \n",
        "poor function of the kidneys. \n",
        "                  \n",
        "**Meglitinides**\n",
        "a shorter-acting insulin secretagogues than the sulfonylureas are, with preprandial dosing potentially achieving more physiologic insulin release and less risk for hypoglycemia, Although meglitinides are considerably more expensive than sulfonylureas, they are similar in their glycemic clinical efficacy.\n",
        "\n",
        "Meglitinides = nateglinide, repaglinide\n",
        "\n",
        "**Metformin**\n",
        "Metformin is used to lower the blood sugar in those with type 2 diabetes by\n",
        "reducing how much glucose is released from the liver, where it is stored also\n",
        "helping the cells of your body to absorb more glucose from the bloodstream.\n",
        "\n",
        "Biguanides(Metformin) = metformin\n",
        "\n",
        "**Thiazolidinediones(TZD)**\n",
        "new class of oral antidiabetic drugs that improve metabolic control in patients with type 2 diabetes through the improvement of insulin sensitivity.\n",
        "\n",
        "Thiazolidinediones(TZD) = pioglitazone, rosiglitazone,troglitazone\n",
        "\n",
        "**Alpha-glucosidase inhibitors**\n",
        "These drugs block the breakdown of starchy foods such as bread, potatoes, and pasta, and they slow down the absorption of of some sugars, such as table sugar.\n",
        "An alpha-glucosidase inhibitor will usually lower your A1c (the \"average\" of your blood sugar control over a few months) by about 0.5% to 0.8%.\n",
        "\n",
        "Alpha-glucosidase inhibitors = acarbose, miglitol\n",
        "\n",
        "**insulin**\n",
        "insulin is any pharmaceutical preparation of the protein hormone insulin that is used to treat high blood glucose\n",
        "insulin = insulin\n",
        "\n",
        "**Metformin_Sulfonylureas_combo**\n",
        "The combination of metformin plus sulphonylurea is widely used\n",
        "Metformin_Sulfonylureas_combo = glipizide-metformin, glimepiride-pioglitazone\n",
        "\n",
        "**Metformin_TZD_combo**\n",
        "Metformin_TZD_combo = metformin-rosiglitazone, metformin-pioglitazone"
      ],
      "metadata": {
        "id": "JmeWHLaOHNpt"
      }
    },
    {
      "cell_type": "markdown",
      "source": [
        "###**Medication grouping**"
      ],
      "metadata": {
        "id": "25EkA5hwDEmS"
      }
    },
    {
      "cell_type": "markdown",
      "source": [
        "there are 24 features that provide information about drugs that the patients receive.\n",
        "\n",
        "the drugs are similar generic drugs from the same class, A drug may be \n",
        "\n",
        "classified by the chemical type of the active ingredient or by the way it is \n",
        "\n",
        "used to treat the patient condition. in our dataset Each drug is classified \n",
        "\n",
        "into groups based on the active ingredient of the drug."
      ],
      "metadata": {
        "id": "f1TupRR_B76P"
      }
    },
    {
      "cell_type": "code",
      "source": [
        "diabetic_meds = df[ [\"Health_service_usage\",\"numchange\",\"metformin\", \"repaglinide\", \"nateglinide\", \"chlorpropamide\", \"glimepiride\", \"acetohexamide\",\\\n",
        "            \"glipizide\", \"glyburide\", \"tolbutamide\", \"pioglitazone\", \"rosiglitazone\", \"acarbose\", \"miglitol\",\\\n",
        "            \"troglitazone\", \"tolazamide\",\"insulin\", \"glyburide-metformin\", \\\n",
        "            \"glipizide-metformin\", \"glimepiride-pioglitazone\", \"metformin-rosiglitazone\", \"metformin-pioglitazone\"]]\n",
        "\n",
        "diabetic_meds[\"Sulfonylureas_gen1\"] = diabetic_meds[\"chlorpropamide\"] + diabetic_meds[\"tolazamide\"] + diabetic_meds[\"tolbutamide\"] +\\\n",
        "                                      diabetic_meds[\"acetohexamide\"] \n",
        "\n",
        "diabetic_meds[\"Sulfonylureas_gen2\"] = diabetic_meds[\"glimepiride\"] + diabetic_meds[\"glipizide\"] + diabetic_meds[\"glyburide\"]\n",
        "\n",
        "diabetic_meds[\"Meglitinides\"] = diabetic_meds[\"nateglinide\"] + diabetic_meds[\"repaglinide\"]\n",
        "\n",
        "diabetic_meds[\"Biguanides(Metformin)\"] = diabetic_meds[\"metformin\"] \n",
        "\n",
        "diabetic_meds[\"Thiazolidinediones(TZD)\"] = diabetic_meds[\"pioglitazone\"] + diabetic_meds[\"rosiglitazone\"] +diabetic_meds[\"troglitazone\"]\n",
        "\n",
        "diabetic_meds[\"Alpha-glucosidase inhibitors\"] = diabetic_meds[\"acarbose\"] + diabetic_meds[\"miglitol\"]\n",
        "\n",
        "diabetic_meds[\"insulin\"] = diabetic_meds[\"insulin\"] \n",
        "\n",
        "diabetic_meds[\"Metformin_Sulfonylureas_combo\"] = diabetic_meds[\"glipizide-metformin\"] + diabetic_meds[\"glimepiride-pioglitazone\"]\n",
        "\n",
        "diabetic_meds[\"Metformin_TZD_combo\"] = diabetic_meds[\"metformin-rosiglitazone\"] + diabetic_meds[\"metformin-pioglitazone\"]\n",
        "\n",
        "for col in ['Sulfonylureas_gen2', 'Sulfonylureas_gen1', 'Meglitinides',\n",
        "       'Biguanides(Metformin)', 'Thiazolidinediones(TZD)',\n",
        "       'Alpha-glucosidase inhibitors',\n",
        "       'Metformin_Sulfonylureas_combo', 'Metformin_TZD_combo']:\n",
        "\n",
        "    diabetic_meds[col] = diabetic_meds[col].apply((lambda x : 1 if x == 2 \n",
        "                                              else ( -1 if x <= -2                                                           \n",
        "                                             else  0)))\n",
        "\n",
        "diabetic_meds = diabetic_meds.drop([\"metformin\", \"repaglinide\", \"nateglinide\", \"chlorpropamide\", \"glimepiride\", \"acetohexamide\",\\\n",
        "            \"glipizide\", \"glyburide\", \"tolbutamide\", \"pioglitazone\", \"rosiglitazone\", \"acarbose\", \"miglitol\",\\\n",
        "            \"troglitazone\", \"tolazamide\", \"insulin\", \"glyburide-metformin\", \\\n",
        "            \"glipizide-metformin\", \"glimepiride-pioglitazone\", \"metformin-rosiglitazone\", \"metformin-pioglitazone\"],axis = 1)\n",
        "\n",
        "df = df.drop([\"metformin\", \"repaglinide\", \"nateglinide\", \"chlorpropamide\", \"glimepiride\", \"acetohexamide\",\\\n",
        "            \"glipizide\", \"glyburide\", \"tolbutamide\", \"pioglitazone\", \"rosiglitazone\", \"acarbose\", \"miglitol\",\\\n",
        "            \"troglitazone\", \"tolazamide\",\"insulin\", \"glyburide-metformin\", \\\n",
        "            \"glipizide-metformin\", \"glimepiride-pioglitazone\", \"metformin-rosiglitazone\", \"metformin-pioglitazone\",\"Health_service_usage\",\"numchange\"],axis = 1)\n",
        "\n",
        "diabetic_patients_dataset = pd.concat([df, diabetic_meds], axis=1, join=\"inner\")"
      ],
      "metadata": {
        "id": "TKlywcUhOpdJ"
      },
      "execution_count": null,
      "outputs": []
    },
    {
      "cell_type": "code",
      "source": [
        "\n",
        "diabetic_patients_dataset = diabetic_patients_dataset[['encounter_id', 'patient_nbr', 'gender', 'age', 'admission_type_id',\n",
        "       'discharge_disposition_id', 'admission_source_id', 'time_in_hospital',\n",
        "       'num_lab_procedures', 'num_procedures', 'num_medications',\n",
        "       'number_outpatient', 'number_emergency', 'number_inpatient', 'diag_1',\n",
        "       'diag_2', 'diag_3', 'number_diagnoses', 'max_glu_serum', 'A1Cresult', 'Sulfonylureas_gen1',\n",
        "       'Sulfonylureas_gen2', 'Meglitinides', 'Biguanides(Metformin)',\n",
        "       'Thiazolidinediones(TZD)', 'Alpha-glucosidase inhibitors',\n",
        "       'Metformin_Sulfonylureas_combo',\n",
        "       'Metformin_TZD_combo', 'change', 'diabetesMed', 'readmitted',\"Health_service_usage\",\"numchange\"]]"
      ],
      "metadata": {
        "id": "23dITH8MP2do"
      },
      "execution_count": null,
      "outputs": []
    },
    {
      "cell_type": "code",
      "source": [
        "# diabetic_patients_dataset.head(5).T\n",
        "\n",
        "print(np.unique(diabetic_patients_dataset[[ 'Sulfonylureas_gen1',\n",
        "       'Sulfonylureas_gen2', 'Meglitinides', 'Biguanides(Metformin)',\n",
        "       'Thiazolidinediones(TZD)', 'Alpha-glucosidase inhibitors',\n",
        "       'Metformin_Sulfonylureas_combo',\n",
        "       'Metformin_TZD_combo']]))  "
      ],
      "metadata": {
        "colab": {
          "base_uri": "https://localhost:8080/"
        },
        "id": "adqO5T5zwRtA",
        "outputId": "7c3ef2fc-8317-4010-d74e-acbccb09a5a4"
      },
      "execution_count": null,
      "outputs": [
        {
          "output_type": "stream",
          "name": "stdout",
          "text": [
            "[0 1]\n"
          ]
        }
      ]
    },
    {
      "cell_type": "code",
      "source": [
        "diabetic_patients_dataset.head(5).T"
      ],
      "metadata": {
        "id": "UcZKScNfzGUs",
        "colab": {
          "base_uri": "https://localhost:8080/",
          "height": 1000
        },
        "outputId": "3c51b32f-91a2-46c8-d37d-dadccb031d72"
      },
      "execution_count": null,
      "outputs": [
        {
          "output_type": "execute_result",
          "data": {
            "text/plain": [
              "                                      0         1         2            3  \\\n",
              "encounter_id                    2278392    149190     64410       500364   \n",
              "patient_nbr                     8222157  55629189  86047875     82442376   \n",
              "gender                                0         0         0            1   \n",
              "age                                   5        15        25           35   \n",
              "admission_type_id                     9         1         1            1   \n",
              "discharge_disposition_id             18         1         1            1   \n",
              "admission_source_id                   1         7         7            7   \n",
              "time_in_hospital                      1         3         2            2   \n",
              "num_lab_procedures                   41        59        11           44   \n",
              "num_procedures                        0         0         5            1   \n",
              "num_medications                       1        18        13           16   \n",
              "number_outpatient                     0         0         2            0   \n",
              "number_emergency                      0         0         0            0   \n",
              "number_inpatient                      0         0         1            0   \n",
              "diag_1                         diabetes     other  pregnecy        other   \n",
              "diag_2                         diabetes     other  pregnecy        other   \n",
              "diag_3                         diabetes     other     other  circulatory   \n",
              "number_diagnoses                      1         9         6            7   \n",
              "max_glu_serum                       -99       -99       -99          -99   \n",
              "A1Cresult                           -99       -99       -99          -99   \n",
              "Sulfonylureas_gen1                    0         0         0            0   \n",
              "Sulfonylureas_gen2                    0         0         0            0   \n",
              "Meglitinides                          0         0         0            0   \n",
              "Biguanides(Metformin)                 0         0         0            0   \n",
              "Thiazolidinediones(TZD)               0         0         0            0   \n",
              "Alpha-glucosidase inhibitors          0         0         0            0   \n",
              "Metformin_Sulfonylureas_combo         0         0         0            0   \n",
              "Metformin_TZD_combo                   0         0         0            0   \n",
              "change                                0         1         0            1   \n",
              "diabetesMed                           0         1         1            1   \n",
              "readmitted                            0         1         0            0   \n",
              "Health_service_usage                  0         0         3            0   \n",
              "numchange                             0         1         0            1   \n",
              "\n",
              "                                       4  \n",
              "encounter_id                       16680  \n",
              "patient_nbr                     42519267  \n",
              "gender                                 1  \n",
              "age                                   45  \n",
              "admission_type_id                      1  \n",
              "discharge_disposition_id               1  \n",
              "admission_source_id                    7  \n",
              "time_in_hospital                       1  \n",
              "num_lab_procedures                    51  \n",
              "num_procedures                         0  \n",
              "num_medications                        8  \n",
              "number_outpatient                      0  \n",
              "number_emergency                       0  \n",
              "number_inpatient                       0  \n",
              "diag_1                         neoplasms  \n",
              "diag_2                         neoplasms  \n",
              "diag_3                          diabetes  \n",
              "number_diagnoses                       5  \n",
              "max_glu_serum                        -99  \n",
              "A1Cresult                            -99  \n",
              "Sulfonylureas_gen1                     0  \n",
              "Sulfonylureas_gen2                     0  \n",
              "Meglitinides                           0  \n",
              "Biguanides(Metformin)                  0  \n",
              "Thiazolidinediones(TZD)                0  \n",
              "Alpha-glucosidase inhibitors           0  \n",
              "Metformin_Sulfonylureas_combo          0  \n",
              "Metformin_TZD_combo                    0  \n",
              "change                                 1  \n",
              "diabetesMed                            1  \n",
              "readmitted                             0  \n",
              "Health_service_usage                   0  \n",
              "numchange                              0  "
            ],
            "text/html": [
              "\n",
              "  <div id=\"df-51f8d3e6-7406-4323-96c5-6bb93fd57941\">\n",
              "    <div class=\"colab-df-container\">\n",
              "      <div>\n",
              "<style scoped>\n",
              "    .dataframe tbody tr th:only-of-type {\n",
              "        vertical-align: middle;\n",
              "    }\n",
              "\n",
              "    .dataframe tbody tr th {\n",
              "        vertical-align: top;\n",
              "    }\n",
              "\n",
              "    .dataframe thead th {\n",
              "        text-align: right;\n",
              "    }\n",
              "</style>\n",
              "<table border=\"1\" class=\"dataframe\">\n",
              "  <thead>\n",
              "    <tr style=\"text-align: right;\">\n",
              "      <th></th>\n",
              "      <th>0</th>\n",
              "      <th>1</th>\n",
              "      <th>2</th>\n",
              "      <th>3</th>\n",
              "      <th>4</th>\n",
              "    </tr>\n",
              "  </thead>\n",
              "  <tbody>\n",
              "    <tr>\n",
              "      <th>encounter_id</th>\n",
              "      <td>2278392</td>\n",
              "      <td>149190</td>\n",
              "      <td>64410</td>\n",
              "      <td>500364</td>\n",
              "      <td>16680</td>\n",
              "    </tr>\n",
              "    <tr>\n",
              "      <th>patient_nbr</th>\n",
              "      <td>8222157</td>\n",
              "      <td>55629189</td>\n",
              "      <td>86047875</td>\n",
              "      <td>82442376</td>\n",
              "      <td>42519267</td>\n",
              "    </tr>\n",
              "    <tr>\n",
              "      <th>gender</th>\n",
              "      <td>0</td>\n",
              "      <td>0</td>\n",
              "      <td>0</td>\n",
              "      <td>1</td>\n",
              "      <td>1</td>\n",
              "    </tr>\n",
              "    <tr>\n",
              "      <th>age</th>\n",
              "      <td>5</td>\n",
              "      <td>15</td>\n",
              "      <td>25</td>\n",
              "      <td>35</td>\n",
              "      <td>45</td>\n",
              "    </tr>\n",
              "    <tr>\n",
              "      <th>admission_type_id</th>\n",
              "      <td>9</td>\n",
              "      <td>1</td>\n",
              "      <td>1</td>\n",
              "      <td>1</td>\n",
              "      <td>1</td>\n",
              "    </tr>\n",
              "    <tr>\n",
              "      <th>discharge_disposition_id</th>\n",
              "      <td>18</td>\n",
              "      <td>1</td>\n",
              "      <td>1</td>\n",
              "      <td>1</td>\n",
              "      <td>1</td>\n",
              "    </tr>\n",
              "    <tr>\n",
              "      <th>admission_source_id</th>\n",
              "      <td>1</td>\n",
              "      <td>7</td>\n",
              "      <td>7</td>\n",
              "      <td>7</td>\n",
              "      <td>7</td>\n",
              "    </tr>\n",
              "    <tr>\n",
              "      <th>time_in_hospital</th>\n",
              "      <td>1</td>\n",
              "      <td>3</td>\n",
              "      <td>2</td>\n",
              "      <td>2</td>\n",
              "      <td>1</td>\n",
              "    </tr>\n",
              "    <tr>\n",
              "      <th>num_lab_procedures</th>\n",
              "      <td>41</td>\n",
              "      <td>59</td>\n",
              "      <td>11</td>\n",
              "      <td>44</td>\n",
              "      <td>51</td>\n",
              "    </tr>\n",
              "    <tr>\n",
              "      <th>num_procedures</th>\n",
              "      <td>0</td>\n",
              "      <td>0</td>\n",
              "      <td>5</td>\n",
              "      <td>1</td>\n",
              "      <td>0</td>\n",
              "    </tr>\n",
              "    <tr>\n",
              "      <th>num_medications</th>\n",
              "      <td>1</td>\n",
              "      <td>18</td>\n",
              "      <td>13</td>\n",
              "      <td>16</td>\n",
              "      <td>8</td>\n",
              "    </tr>\n",
              "    <tr>\n",
              "      <th>number_outpatient</th>\n",
              "      <td>0</td>\n",
              "      <td>0</td>\n",
              "      <td>2</td>\n",
              "      <td>0</td>\n",
              "      <td>0</td>\n",
              "    </tr>\n",
              "    <tr>\n",
              "      <th>number_emergency</th>\n",
              "      <td>0</td>\n",
              "      <td>0</td>\n",
              "      <td>0</td>\n",
              "      <td>0</td>\n",
              "      <td>0</td>\n",
              "    </tr>\n",
              "    <tr>\n",
              "      <th>number_inpatient</th>\n",
              "      <td>0</td>\n",
              "      <td>0</td>\n",
              "      <td>1</td>\n",
              "      <td>0</td>\n",
              "      <td>0</td>\n",
              "    </tr>\n",
              "    <tr>\n",
              "      <th>diag_1</th>\n",
              "      <td>diabetes</td>\n",
              "      <td>other</td>\n",
              "      <td>pregnecy</td>\n",
              "      <td>other</td>\n",
              "      <td>neoplasms</td>\n",
              "    </tr>\n",
              "    <tr>\n",
              "      <th>diag_2</th>\n",
              "      <td>diabetes</td>\n",
              "      <td>other</td>\n",
              "      <td>pregnecy</td>\n",
              "      <td>other</td>\n",
              "      <td>neoplasms</td>\n",
              "    </tr>\n",
              "    <tr>\n",
              "      <th>diag_3</th>\n",
              "      <td>diabetes</td>\n",
              "      <td>other</td>\n",
              "      <td>other</td>\n",
              "      <td>circulatory</td>\n",
              "      <td>diabetes</td>\n",
              "    </tr>\n",
              "    <tr>\n",
              "      <th>number_diagnoses</th>\n",
              "      <td>1</td>\n",
              "      <td>9</td>\n",
              "      <td>6</td>\n",
              "      <td>7</td>\n",
              "      <td>5</td>\n",
              "    </tr>\n",
              "    <tr>\n",
              "      <th>max_glu_serum</th>\n",
              "      <td>-99</td>\n",
              "      <td>-99</td>\n",
              "      <td>-99</td>\n",
              "      <td>-99</td>\n",
              "      <td>-99</td>\n",
              "    </tr>\n",
              "    <tr>\n",
              "      <th>A1Cresult</th>\n",
              "      <td>-99</td>\n",
              "      <td>-99</td>\n",
              "      <td>-99</td>\n",
              "      <td>-99</td>\n",
              "      <td>-99</td>\n",
              "    </tr>\n",
              "    <tr>\n",
              "      <th>Sulfonylureas_gen1</th>\n",
              "      <td>0</td>\n",
              "      <td>0</td>\n",
              "      <td>0</td>\n",
              "      <td>0</td>\n",
              "      <td>0</td>\n",
              "    </tr>\n",
              "    <tr>\n",
              "      <th>Sulfonylureas_gen2</th>\n",
              "      <td>0</td>\n",
              "      <td>0</td>\n",
              "      <td>0</td>\n",
              "      <td>0</td>\n",
              "      <td>0</td>\n",
              "    </tr>\n",
              "    <tr>\n",
              "      <th>Meglitinides</th>\n",
              "      <td>0</td>\n",
              "      <td>0</td>\n",
              "      <td>0</td>\n",
              "      <td>0</td>\n",
              "      <td>0</td>\n",
              "    </tr>\n",
              "    <tr>\n",
              "      <th>Biguanides(Metformin)</th>\n",
              "      <td>0</td>\n",
              "      <td>0</td>\n",
              "      <td>0</td>\n",
              "      <td>0</td>\n",
              "      <td>0</td>\n",
              "    </tr>\n",
              "    <tr>\n",
              "      <th>Thiazolidinediones(TZD)</th>\n",
              "      <td>0</td>\n",
              "      <td>0</td>\n",
              "      <td>0</td>\n",
              "      <td>0</td>\n",
              "      <td>0</td>\n",
              "    </tr>\n",
              "    <tr>\n",
              "      <th>Alpha-glucosidase inhibitors</th>\n",
              "      <td>0</td>\n",
              "      <td>0</td>\n",
              "      <td>0</td>\n",
              "      <td>0</td>\n",
              "      <td>0</td>\n",
              "    </tr>\n",
              "    <tr>\n",
              "      <th>Metformin_Sulfonylureas_combo</th>\n",
              "      <td>0</td>\n",
              "      <td>0</td>\n",
              "      <td>0</td>\n",
              "      <td>0</td>\n",
              "      <td>0</td>\n",
              "    </tr>\n",
              "    <tr>\n",
              "      <th>Metformin_TZD_combo</th>\n",
              "      <td>0</td>\n",
              "      <td>0</td>\n",
              "      <td>0</td>\n",
              "      <td>0</td>\n",
              "      <td>0</td>\n",
              "    </tr>\n",
              "    <tr>\n",
              "      <th>change</th>\n",
              "      <td>0</td>\n",
              "      <td>1</td>\n",
              "      <td>0</td>\n",
              "      <td>1</td>\n",
              "      <td>1</td>\n",
              "    </tr>\n",
              "    <tr>\n",
              "      <th>diabetesMed</th>\n",
              "      <td>0</td>\n",
              "      <td>1</td>\n",
              "      <td>1</td>\n",
              "      <td>1</td>\n",
              "      <td>1</td>\n",
              "    </tr>\n",
              "    <tr>\n",
              "      <th>readmitted</th>\n",
              "      <td>0</td>\n",
              "      <td>1</td>\n",
              "      <td>0</td>\n",
              "      <td>0</td>\n",
              "      <td>0</td>\n",
              "    </tr>\n",
              "    <tr>\n",
              "      <th>Health_service_usage</th>\n",
              "      <td>0</td>\n",
              "      <td>0</td>\n",
              "      <td>3</td>\n",
              "      <td>0</td>\n",
              "      <td>0</td>\n",
              "    </tr>\n",
              "    <tr>\n",
              "      <th>numchange</th>\n",
              "      <td>0</td>\n",
              "      <td>1</td>\n",
              "      <td>0</td>\n",
              "      <td>1</td>\n",
              "      <td>0</td>\n",
              "    </tr>\n",
              "  </tbody>\n",
              "</table>\n",
              "</div>\n",
              "      <button class=\"colab-df-convert\" onclick=\"convertToInteractive('df-51f8d3e6-7406-4323-96c5-6bb93fd57941')\"\n",
              "              title=\"Convert this dataframe to an interactive table.\"\n",
              "              style=\"display:none;\">\n",
              "        \n",
              "  <svg xmlns=\"http://www.w3.org/2000/svg\" height=\"24px\"viewBox=\"0 0 24 24\"\n",
              "       width=\"24px\">\n",
              "    <path d=\"M0 0h24v24H0V0z\" fill=\"none\"/>\n",
              "    <path d=\"M18.56 5.44l.94 2.06.94-2.06 2.06-.94-2.06-.94-.94-2.06-.94 2.06-2.06.94zm-11 1L8.5 8.5l.94-2.06 2.06-.94-2.06-.94L8.5 2.5l-.94 2.06-2.06.94zm10 10l.94 2.06.94-2.06 2.06-.94-2.06-.94-.94-2.06-.94 2.06-2.06.94z\"/><path d=\"M17.41 7.96l-1.37-1.37c-.4-.4-.92-.59-1.43-.59-.52 0-1.04.2-1.43.59L10.3 9.45l-7.72 7.72c-.78.78-.78 2.05 0 2.83L4 21.41c.39.39.9.59 1.41.59.51 0 1.02-.2 1.41-.59l7.78-7.78 2.81-2.81c.8-.78.8-2.07 0-2.86zM5.41 20L4 18.59l7.72-7.72 1.47 1.35L5.41 20z\"/>\n",
              "  </svg>\n",
              "      </button>\n",
              "      \n",
              "  <style>\n",
              "    .colab-df-container {\n",
              "      display:flex;\n",
              "      flex-wrap:wrap;\n",
              "      gap: 12px;\n",
              "    }\n",
              "\n",
              "    .colab-df-convert {\n",
              "      background-color: #E8F0FE;\n",
              "      border: none;\n",
              "      border-radius: 50%;\n",
              "      cursor: pointer;\n",
              "      display: none;\n",
              "      fill: #1967D2;\n",
              "      height: 32px;\n",
              "      padding: 0 0 0 0;\n",
              "      width: 32px;\n",
              "    }\n",
              "\n",
              "    .colab-df-convert:hover {\n",
              "      background-color: #E2EBFA;\n",
              "      box-shadow: 0px 1px 2px rgba(60, 64, 67, 0.3), 0px 1px 3px 1px rgba(60, 64, 67, 0.15);\n",
              "      fill: #174EA6;\n",
              "    }\n",
              "\n",
              "    [theme=dark] .colab-df-convert {\n",
              "      background-color: #3B4455;\n",
              "      fill: #D2E3FC;\n",
              "    }\n",
              "\n",
              "    [theme=dark] .colab-df-convert:hover {\n",
              "      background-color: #434B5C;\n",
              "      box-shadow: 0px 1px 3px 1px rgba(0, 0, 0, 0.15);\n",
              "      filter: drop-shadow(0px 1px 2px rgba(0, 0, 0, 0.3));\n",
              "      fill: #FFFFFF;\n",
              "    }\n",
              "  </style>\n",
              "\n",
              "      <script>\n",
              "        const buttonEl =\n",
              "          document.querySelector('#df-51f8d3e6-7406-4323-96c5-6bb93fd57941 button.colab-df-convert');\n",
              "        buttonEl.style.display =\n",
              "          google.colab.kernel.accessAllowed ? 'block' : 'none';\n",
              "\n",
              "        async function convertToInteractive(key) {\n",
              "          const element = document.querySelector('#df-51f8d3e6-7406-4323-96c5-6bb93fd57941');\n",
              "          const dataTable =\n",
              "            await google.colab.kernel.invokeFunction('convertToInteractive',\n",
              "                                                     [key], {});\n",
              "          if (!dataTable) return;\n",
              "\n",
              "          const docLinkHtml = 'Like what you see? Visit the ' +\n",
              "            '<a target=\"_blank\" href=https://colab.research.google.com/notebooks/data_table.ipynb>data table notebook</a>'\n",
              "            + ' to learn more about interactive tables.';\n",
              "          element.innerHTML = '';\n",
              "          dataTable['output_type'] = 'display_data';\n",
              "          await google.colab.output.renderOutput(dataTable, element);\n",
              "          const docLink = document.createElement('div');\n",
              "          docLink.innerHTML = docLinkHtml;\n",
              "          element.appendChild(docLink);\n",
              "        }\n",
              "      </script>\n",
              "    </div>\n",
              "  </div>\n",
              "  "
            ]
          },
          "metadata": {},
          "execution_count": 30
        }
      ]
    },
    {
      "cell_type": "code",
      "source": [
        "#create data checkpoint\n",
        "diabetic_patients = diabetic_patients_dataset.copy()\n",
        "diabetic_patients.to_csv('./diabetes_data_preprocessed.csv')"
      ],
      "metadata": {
        "id": "OH2w6t0dTlgY"
      },
      "execution_count": null,
      "outputs": []
    },
    {
      "cell_type": "code",
      "source": [
        "diabetic_patients.columns"
      ],
      "metadata": {
        "colab": {
          "base_uri": "https://localhost:8080/"
        },
        "id": "j-qnkOvRSvl1",
        "outputId": "d8d0e412-9184-4c15-82c3-279819ae418a"
      },
      "execution_count": null,
      "outputs": [
        {
          "output_type": "execute_result",
          "data": {
            "text/plain": [
              "Index(['encounter_id', 'patient_nbr', 'gender', 'age', 'admission_type_id',\n",
              "       'discharge_disposition_id', 'admission_source_id', 'time_in_hospital',\n",
              "       'num_lab_procedures', 'num_procedures', 'num_medications',\n",
              "       'number_outpatient', 'number_emergency', 'number_inpatient', 'diag_1',\n",
              "       'diag_2', 'diag_3', 'number_diagnoses', 'max_glu_serum', 'A1Cresult',\n",
              "       'Sulfonylureas_gen1', 'Sulfonylureas_gen2', 'Meglitinides',\n",
              "       'Biguanides(Metformin)', 'Thiazolidinediones(TZD)',\n",
              "       'Alpha-glucosidase inhibitors', 'Metformin_Sulfonylureas_combo',\n",
              "       'Metformin_TZD_combo', 'change', 'diabetesMed', 'readmitted',\n",
              "       'Health_service_usage', 'numchange'],\n",
              "      dtype='object')"
            ]
          },
          "metadata": {},
          "execution_count": 73
        }
      ]
    },
    {
      "cell_type": "code",
      "source": [
        "cat_features = [ 'admission_type_id',\n",
        "       'discharge_disposition_id', 'admission_source_id', 'diag_1',\n",
        "       'diag_2', 'diag_3', 'change', 'diabetesMed']\n",
        "\n",
        "to_drop=['encounter_id','patient_nbr','readmitted','gender', 'number_inpatient','number_outpatient', 'number_emergency','Sulfonylureas_gen1', 'Sulfonylureas_gen2', 'Meglitinides',\n",
        "       'Biguanides(Metformin)', 'Thiazolidinediones(TZD)',\n",
        "       'Alpha-glucosidase inhibitors', 'Metformin_Sulfonylureas_combo',\n",
        "       'Metformin_TZD_combo','numchange']"
      ],
      "metadata": {
        "id": "Q2k-x7lISrDc"
      },
      "execution_count": null,
      "outputs": []
    },
    {
      "cell_type": "code",
      "source": [
        "len(to_drop), len (diabetic_patients.columns)"
      ],
      "metadata": {
        "colab": {
          "base_uri": "https://localhost:8080/"
        },
        "id": "gdc7RDfeFlVS",
        "outputId": "972c8988-30f7-4642-d356-1a978497f897"
      },
      "execution_count": null,
      "outputs": [
        {
          "output_type": "execute_result",
          "data": {
            "text/plain": [
              "(16, 33)"
            ]
          },
          "metadata": {},
          "execution_count": 76
        }
      ]
    },
    {
      "cell_type": "markdown",
      "source": [
        "Several patients return for treatment more than once at different time periods"
      ],
      "metadata": {
        "id": "unM3KjXUEBMA"
      }
    },
    {
      "cell_type": "code",
      "source": [
        "#@title\n",
        "patient_readmition_data = diabetic_data[['patient_nbr','readmitted']]\n",
        "patient_readmition_data=patient_readmition_data.groupby(['patient_nbr','readmitted'])['readmitted'].count().unstack()\n",
        "patient_readmition_data['NO'] = patient_readmition_data['NO'].map({1.0: \"NO\"}).replace(np.nan, \"Yes\")\n",
        "patient_readmition_data = patient_readmition_data.replace(np.nan, 0)# a.set_index(\"patient_nbr\")'\n",
        "patient_readmition_data['Yes/No'] = patient_readmition_data['NO']\n",
        "patient_readmition_data = patient_readmition_data.drop(['NO'], axis=1)\n",
        "patient_readmition_data['Total readmittions'] = patient_readmition_data['<30'] + patient_readmition_data['>30']\n",
        "patient_readmition_data = patient_readmition_data.loc[(patient_readmition_data['Yes/No'] == \"Yes\")]\n",
        "patient_readmition_data = patient_readmition_data.sort_values(by = \"Total readmittions\",ascending=False)\n",
        "patient_readmition_data.sample(5)"
      ],
      "metadata": {
        "cellView": "form",
        "id": "o-gBVjDYk74b",
        "colab": {
          "base_uri": "https://localhost:8080/",
          "height": 237
        },
        "outputId": "d49d92f7-3540-4169-93cb-952c3e86ec22"
      },
      "execution_count": null,
      "outputs": [
        {
          "output_type": "execute_result",
          "data": {
            "text/plain": [
              "readmitted   <30  >30 Yes/No  Total readmittions\n",
              "patient_nbr                                     \n",
              "92452095     0.0  1.0    Yes                 1.0\n",
              "53136549     0.0  1.0    Yes                 1.0\n",
              "29051928     0.0  1.0    Yes                 1.0\n",
              "7723809      0.0  1.0    Yes                 1.0\n",
              "107076942    0.0  1.0    Yes                 1.0"
            ],
            "text/html": [
              "\n",
              "  <div id=\"df-9da3ea38-ad7f-4bf0-9c5e-93a1360b0080\">\n",
              "    <div class=\"colab-df-container\">\n",
              "      <div>\n",
              "<style scoped>\n",
              "    .dataframe tbody tr th:only-of-type {\n",
              "        vertical-align: middle;\n",
              "    }\n",
              "\n",
              "    .dataframe tbody tr th {\n",
              "        vertical-align: top;\n",
              "    }\n",
              "\n",
              "    .dataframe thead th {\n",
              "        text-align: right;\n",
              "    }\n",
              "</style>\n",
              "<table border=\"1\" class=\"dataframe\">\n",
              "  <thead>\n",
              "    <tr style=\"text-align: right;\">\n",
              "      <th>readmitted</th>\n",
              "      <th>&lt;30</th>\n",
              "      <th>&gt;30</th>\n",
              "      <th>Yes/No</th>\n",
              "      <th>Total readmittions</th>\n",
              "    </tr>\n",
              "    <tr>\n",
              "      <th>patient_nbr</th>\n",
              "      <th></th>\n",
              "      <th></th>\n",
              "      <th></th>\n",
              "      <th></th>\n",
              "    </tr>\n",
              "  </thead>\n",
              "  <tbody>\n",
              "    <tr>\n",
              "      <th>92452095</th>\n",
              "      <td>0.0</td>\n",
              "      <td>1.0</td>\n",
              "      <td>Yes</td>\n",
              "      <td>1.0</td>\n",
              "    </tr>\n",
              "    <tr>\n",
              "      <th>53136549</th>\n",
              "      <td>0.0</td>\n",
              "      <td>1.0</td>\n",
              "      <td>Yes</td>\n",
              "      <td>1.0</td>\n",
              "    </tr>\n",
              "    <tr>\n",
              "      <th>29051928</th>\n",
              "      <td>0.0</td>\n",
              "      <td>1.0</td>\n",
              "      <td>Yes</td>\n",
              "      <td>1.0</td>\n",
              "    </tr>\n",
              "    <tr>\n",
              "      <th>7723809</th>\n",
              "      <td>0.0</td>\n",
              "      <td>1.0</td>\n",
              "      <td>Yes</td>\n",
              "      <td>1.0</td>\n",
              "    </tr>\n",
              "    <tr>\n",
              "      <th>107076942</th>\n",
              "      <td>0.0</td>\n",
              "      <td>1.0</td>\n",
              "      <td>Yes</td>\n",
              "      <td>1.0</td>\n",
              "    </tr>\n",
              "  </tbody>\n",
              "</table>\n",
              "</div>\n",
              "      <button class=\"colab-df-convert\" onclick=\"convertToInteractive('df-9da3ea38-ad7f-4bf0-9c5e-93a1360b0080')\"\n",
              "              title=\"Convert this dataframe to an interactive table.\"\n",
              "              style=\"display:none;\">\n",
              "        \n",
              "  <svg xmlns=\"http://www.w3.org/2000/svg\" height=\"24px\"viewBox=\"0 0 24 24\"\n",
              "       width=\"24px\">\n",
              "    <path d=\"M0 0h24v24H0V0z\" fill=\"none\"/>\n",
              "    <path d=\"M18.56 5.44l.94 2.06.94-2.06 2.06-.94-2.06-.94-.94-2.06-.94 2.06-2.06.94zm-11 1L8.5 8.5l.94-2.06 2.06-.94-2.06-.94L8.5 2.5l-.94 2.06-2.06.94zm10 10l.94 2.06.94-2.06 2.06-.94-2.06-.94-.94-2.06-.94 2.06-2.06.94z\"/><path d=\"M17.41 7.96l-1.37-1.37c-.4-.4-.92-.59-1.43-.59-.52 0-1.04.2-1.43.59L10.3 9.45l-7.72 7.72c-.78.78-.78 2.05 0 2.83L4 21.41c.39.39.9.59 1.41.59.51 0 1.02-.2 1.41-.59l7.78-7.78 2.81-2.81c.8-.78.8-2.07 0-2.86zM5.41 20L4 18.59l7.72-7.72 1.47 1.35L5.41 20z\"/>\n",
              "  </svg>\n",
              "      </button>\n",
              "      \n",
              "  <style>\n",
              "    .colab-df-container {\n",
              "      display:flex;\n",
              "      flex-wrap:wrap;\n",
              "      gap: 12px;\n",
              "    }\n",
              "\n",
              "    .colab-df-convert {\n",
              "      background-color: #E8F0FE;\n",
              "      border: none;\n",
              "      border-radius: 50%;\n",
              "      cursor: pointer;\n",
              "      display: none;\n",
              "      fill: #1967D2;\n",
              "      height: 32px;\n",
              "      padding: 0 0 0 0;\n",
              "      width: 32px;\n",
              "    }\n",
              "\n",
              "    .colab-df-convert:hover {\n",
              "      background-color: #E2EBFA;\n",
              "      box-shadow: 0px 1px 2px rgba(60, 64, 67, 0.3), 0px 1px 3px 1px rgba(60, 64, 67, 0.15);\n",
              "      fill: #174EA6;\n",
              "    }\n",
              "\n",
              "    [theme=dark] .colab-df-convert {\n",
              "      background-color: #3B4455;\n",
              "      fill: #D2E3FC;\n",
              "    }\n",
              "\n",
              "    [theme=dark] .colab-df-convert:hover {\n",
              "      background-color: #434B5C;\n",
              "      box-shadow: 0px 1px 3px 1px rgba(0, 0, 0, 0.15);\n",
              "      filter: drop-shadow(0px 1px 2px rgba(0, 0, 0, 0.3));\n",
              "      fill: #FFFFFF;\n",
              "    }\n",
              "  </style>\n",
              "\n",
              "      <script>\n",
              "        const buttonEl =\n",
              "          document.querySelector('#df-9da3ea38-ad7f-4bf0-9c5e-93a1360b0080 button.colab-df-convert');\n",
              "        buttonEl.style.display =\n",
              "          google.colab.kernel.accessAllowed ? 'block' : 'none';\n",
              "\n",
              "        async function convertToInteractive(key) {\n",
              "          const element = document.querySelector('#df-9da3ea38-ad7f-4bf0-9c5e-93a1360b0080');\n",
              "          const dataTable =\n",
              "            await google.colab.kernel.invokeFunction('convertToInteractive',\n",
              "                                                     [key], {});\n",
              "          if (!dataTable) return;\n",
              "\n",
              "          const docLinkHtml = 'Like what you see? Visit the ' +\n",
              "            '<a target=\"_blank\" href=https://colab.research.google.com/notebooks/data_table.ipynb>data table notebook</a>'\n",
              "            + ' to learn more about interactive tables.';\n",
              "          element.innerHTML = '';\n",
              "          dataTable['output_type'] = 'display_data';\n",
              "          await google.colab.output.renderOutput(dataTable, element);\n",
              "          const docLink = document.createElement('div');\n",
              "          docLink.innerHTML = docLinkHtml;\n",
              "          element.appendChild(docLink);\n",
              "        }\n",
              "      </script>\n",
              "    </div>\n",
              "  </div>\n",
              "  "
            ]
          },
          "metadata": {},
          "execution_count": 34
        }
      ]
    },
    {
      "cell_type": "code",
      "source": [
        "!pip install catboost"
      ],
      "metadata": {
        "id": "g0eOoB1PYDX4",
        "colab": {
          "base_uri": "https://localhost:8080/"
        },
        "outputId": "89f8a456-362d-4693-8c1b-83018bd3929b"
      },
      "execution_count": null,
      "outputs": [
        {
          "output_type": "stream",
          "name": "stdout",
          "text": [
            "Collecting catboost\n",
            "  Downloading catboost-1.0.4-cp37-none-manylinux1_x86_64.whl (76.1 MB)\n",
            "\u001b[K     |████████████████████████████████| 76.1 MB 1.3 MB/s \n",
            "\u001b[?25hRequirement already satisfied: numpy>=1.16.0 in /usr/local/lib/python3.7/dist-packages (from catboost) (1.21.5)\n",
            "Requirement already satisfied: pandas>=0.24.0 in /usr/local/lib/python3.7/dist-packages (from catboost) (1.3.5)\n",
            "Requirement already satisfied: matplotlib in /usr/local/lib/python3.7/dist-packages (from catboost) (3.2.2)\n",
            "Requirement already satisfied: scipy in /usr/local/lib/python3.7/dist-packages (from catboost) (1.4.1)\n",
            "Requirement already satisfied: plotly in /usr/local/lib/python3.7/dist-packages (from catboost) (5.5.0)\n",
            "Requirement already satisfied: graphviz in /usr/local/lib/python3.7/dist-packages (from catboost) (0.10.1)\n",
            "Requirement already satisfied: six in /usr/local/lib/python3.7/dist-packages (from catboost) (1.15.0)\n",
            "Requirement already satisfied: python-dateutil>=2.7.3 in /usr/local/lib/python3.7/dist-packages (from pandas>=0.24.0->catboost) (2.8.2)\n",
            "Requirement already satisfied: pytz>=2017.3 in /usr/local/lib/python3.7/dist-packages (from pandas>=0.24.0->catboost) (2018.9)\n",
            "Requirement already satisfied: kiwisolver>=1.0.1 in /usr/local/lib/python3.7/dist-packages (from matplotlib->catboost) (1.3.2)\n",
            "Requirement already satisfied: cycler>=0.10 in /usr/local/lib/python3.7/dist-packages (from matplotlib->catboost) (0.11.0)\n",
            "Requirement already satisfied: pyparsing!=2.0.4,!=2.1.2,!=2.1.6,>=2.0.1 in /usr/local/lib/python3.7/dist-packages (from matplotlib->catboost) (3.0.7)\n",
            "Requirement already satisfied: tenacity>=6.2.0 in /usr/local/lib/python3.7/dist-packages (from plotly->catboost) (8.0.1)\n",
            "Installing collected packages: catboost\n",
            "Successfully installed catboost-1.0.4\n"
          ]
        }
      ]
    },
    {
      "cell_type": "code",
      "source": [
        "sns.heatmap(X.corr())"
      ],
      "metadata": {
        "colab": {
          "base_uri": "https://localhost:8080/",
          "height": 415
        },
        "id": "VEvgTBnIVliu",
        "outputId": "9a02c50d-be2d-4fb1-be61-21f80b1e9b32"
      },
      "execution_count": null,
      "outputs": [
        {
          "output_type": "execute_result",
          "data": {
            "text/plain": [
              "<matplotlib.axes._subplots.AxesSubplot at 0x7f14bb7850d0>"
            ]
          },
          "metadata": {},
          "execution_count": 83
        },
        {
          "output_type": "display_data",
          "data": {
            "text/plain": [
              "<Figure size 432x288 with 2 Axes>"
            ],
            "image/png": "[encoded data removed]"
          },
          "metadata": {}
        }
      ]
    },
    {
      "cell_type": "code",
      "source": [
        "from sklearn.metrics import mean_squared_error, log_loss, accuracy_score\n",
        "from sklearn.model_selection import train_test_split\n",
        "import xgboost as xgb\n",
        "from catboost import CatBoostClassifier,Pool\n",
        "X = diabetic_patients.drop(to_drop,axis=1)\n",
        "y = diabetic_patients.readmitted\n",
        "X_train, X_test, y_train, y_test = train_test_split(X, y,random_state=5,stratify=diabetic_patients.readmitted)"
      ],
      "metadata": {
        "id": "kGy2h7NGX0G0"
      },
      "execution_count": null,
      "outputs": []
    },
    {
      "cell_type": "code",
      "source": [
        "cb_clf = CatBoostClassifier(iterations=500)\n",
        "cb_clf.fit(X_train,y_train,cat_features=cat_features)"
      ],
      "metadata": {
        "id": "UAFo3yjiYabT"
      },
      "execution_count": null,
      "outputs": []
    },
    {
      "cell_type": "code",
      "source": [
        "y_train_pred = cb_clf.predict(X_train)\n",
        "pd.DataFrame(y_train_pred).hist()\n"
      ],
      "metadata": {
        "colab": {
          "base_uri": "https://localhost:8080/",
          "height": 319
        },
        "id": "KowRzMzKZDAa",
        "outputId": "5440f714-a7e3-4862-cd55-5085d975268d"
      },
      "execution_count": null,
      "outputs": [
        {
          "output_type": "execute_result",
          "data": {
            "text/plain": [
              "array([[<matplotlib.axes._subplots.AxesSubplot object at 0x7f14d25b1ad0>]],\n",
              "      dtype=object)"
            ]
          },
          "metadata": {},
          "execution_count": 64
        },
        {
          "output_type": "display_data",
          "data": {
            "text/plain": [
              "<Figure size 432x288 with 1 Axes>"
            ],
            "image/png": "[encoded data removed]"
          },
          "metadata": {}
        }
      ]
    },
    {
      "cell_type": "code",
      "source": [
        "y_train.hist()"
      ],
      "metadata": {
        "colab": {
          "base_uri": "https://localhost:8080/",
          "height": 285
        },
        "id": "7mnLHyvMZOaK",
        "outputId": "9d5de97f-78e6-4cee-cbe9-c8b226effc82"
      },
      "execution_count": null,
      "outputs": [
        {
          "output_type": "execute_result",
          "data": {
            "text/plain": [
              "<matplotlib.axes._subplots.AxesSubplot at 0x7f14bbdaa650>"
            ]
          },
          "metadata": {},
          "execution_count": 65
        },
        {
          "output_type": "display_data",
          "data": {
            "text/plain": [
              "<Figure size 432x288 with 1 Axes>"
            ],
            "image/png": "[encoded data removed]"
          },
          "metadata": {}
        }
      ]
    },
    {
      "cell_type": "code",
      "source": [
        "from sklearn.metrics import confusion_matrix\n",
        "sns.heatmap(confusion_matrix(y_true=y_train, y_pred=cb_clf.predict(X_train)))"
      ],
      "metadata": {
        "colab": {
          "base_uri": "https://localhost:8080/",
          "height": 285
        },
        "id": "30KJp3wUZa4Z",
        "outputId": "adbb38b8-da11-4ad7-ac5e-4ef42a1b7d19"
      },
      "execution_count": null,
      "outputs": [
        {
          "output_type": "execute_result",
          "data": {
            "text/plain": [
              "<matplotlib.axes._subplots.AxesSubplot at 0x7f14bbcc1450>"
            ]
          },
          "metadata": {},
          "execution_count": 66
        },
        {
          "output_type": "display_data",
          "data": {
            "text/plain": [
              "<Figure size 432x288 with 2 Axes>"
            ],
            "image/png": "[encoded data removed]"
          },
          "metadata": {}
        }
      ]
    },
    {
      "cell_type": "code",
      "source": [
        "confusion_matrix(y_true=y_train, y_pred=cb_clf.predict(X_train))"
      ],
      "metadata": {
        "colab": {
          "base_uri": "https://localhost:8080/"
        },
        "id": "jPS63GW_Zpdc",
        "outputId": "5b23fff7-bbd3-4056-fdbd-e953816c2d8f"
      },
      "execution_count": null,
      "outputs": [
        {
          "output_type": "execute_result",
          "data": {
            "text/plain": [
              "array([[29099, 10294],\n",
              "       [15176, 19936]])"
            ]
          },
          "metadata": {},
          "execution_count": 67
        }
      ]
    },
    {
      "cell_type": "code",
      "source": [
        "#@title\n",
        "y_pred_proba = cb_clf.predict_proba(X_train)\n",
        "print('the logloss for the train data is:' ,log_loss(y_true=y_train,y_pred=y_pred_proba),\n",
        "      'the accuracy score is: ', accuracy_score(y_true=y_train,y_pred=y_train_pred))"
      ],
      "metadata": {
        "colab": {
          "base_uri": "https://localhost:8080/"
        },
        "id": "pskfXnHZZvwm",
        "outputId": "a260b5e1-e9b6-4fa1-f20a-a450974ec25f",
        "cellView": "form"
      },
      "execution_count": null,
      "outputs": [
        {
          "output_type": "stream",
          "name": "stdout",
          "text": [
            "the logloss for the train data is: 0.6137448726729013 the accuracy score is:  0.6581437487416952\n"
          ]
        }
      ]
    },
    {
      "cell_type": "code",
      "source": [
        "#@title\n",
        "y_pred_proba_test = cb_clf.predict_proba(X_test)\n",
        "log_loss(y_true=y_test,y_pred=y_pred_proba_test)\n",
        "print('the logloss for the test data is:' ,log_loss(y_true=y_test,y_pred=cb_clf.predict_proba(X_test)),\n",
        "      'the accuracy score is: ', accuracy_score(y_true=y_test,y_pred=cb_clf.predict(X_test)))"
      ],
      "metadata": {
        "colab": {
          "base_uri": "https://localhost:8080/"
        },
        "id": "3yaWz9TJZ2Ti",
        "outputId": "6184dac0-6d07-48c9-dccb-57b1ff3a29f1",
        "cellView": "form"
      },
      "execution_count": null,
      "outputs": [
        {
          "output_type": "stream",
          "name": "stdout",
          "text": [
            "the logloss for the test data is: 0.6347696089198124 the accuracy score is:  0.6343064223877593\n"
          ]
        }
      ]
    },
    {
      "cell_type": "code",
      "source": [
        "fi = cb_clf.get_feature_importance(Pool(X_test, label=y_test,cat_features=cat_features))\n",
        "fi_df = pd.DataFrame(fi,index=X_test.columns)\n",
        "fi_df.sort_values(by=0,ascending=True).plot.barh(figsize=(8,5),legend=False)"
      ],
      "metadata": {
        "colab": {
          "base_uri": "https://localhost:8080/",
          "height": 339
        },
        "id": "PNMBMQk4Z6yM",
        "outputId": "6087df5c-e1fe-43c8-da0b-d282f7e184fe"
      },
      "execution_count": null,
      "outputs": [
        {
          "output_type": "execute_result",
          "data": {
            "text/plain": [
              "<matplotlib.axes._subplots.AxesSubplot at 0x7f14bb9a5ad0>"
            ]
          },
          "metadata": {},
          "execution_count": 80
        },
        {
          "output_type": "display_data",
          "data": {
            "text/plain": [
              "<Figure size 576x360 with 1 Axes>"
            ],
            "image/png": "[encoded data removed]"
          },
          "metadata": {}
        }
      ]
    },
    {
      "cell_type": "code",
      "source": [
        "from sklearn.ensemble import RandomForestClassifier\n",
        "clf=RandomForestClassifier(n_estimators=100)\n",
        "clf.fit(X_train,y_train)"
      ],
      "metadata": {
        "id": "pgBFrDjDJrSD"
      },
      "execution_count": null,
      "outputs": []
    },
    {
      "cell_type": "code",
      "source": [
        "fi_df.sort_values(by=0,ascending=False)"
      ],
      "metadata": {
        "colab": {
          "base_uri": "https://localhost:8080/",
          "height": 582
        },
        "id": "G6gf6esoaWVB",
        "outputId": "6a73393e-da8a-45fc-8aa7-66c15c22d950"
      },
      "execution_count": null,
      "outputs": [
        {
          "output_type": "execute_result",
          "data": {
            "text/plain": [
              "                                  0\n",
              "Health_service_usage      17.695303\n",
              "num_lab_procedures        10.236801\n",
              "num_medications           10.165034\n",
              "number_diagnoses           8.178431\n",
              "age                        8.009707\n",
              "admission_source_id        7.636326\n",
              "time_in_hospital           6.041688\n",
              "diag_1                     4.914361\n",
              "num_procedures             4.748320\n",
              "diag_3                     4.367795\n",
              "admission_type_id          4.169909\n",
              "discharge_disposition_id   3.796903\n",
              "diag_2                     3.138625\n",
              "diabetesMed                2.093192\n",
              "A1Cresult                  2.038705\n",
              "change                     1.413482\n",
              "max_glu_serum              1.355419"
            ],
            "text/html": [
              "\n",
              "  <div id=\"df-3aaec110-5cd0-44ac-8ac7-dffeb1516385\">\n",
              "    <div class=\"colab-df-container\">\n",
              "      <div>\n",
              "<style scoped>\n",
              "    .dataframe tbody tr th:only-of-type {\n",
              "        vertical-align: middle;\n",
              "    }\n",
              "\n",
              "    .dataframe tbody tr th {\n",
              "        vertical-align: top;\n",
              "    }\n",
              "\n",
              "    .dataframe thead th {\n",
              "        text-align: right;\n",
              "    }\n",
              "</style>\n",
              "<table border=\"1\" class=\"dataframe\">\n",
              "  <thead>\n",
              "    <tr style=\"text-align: right;\">\n",
              "      <th></th>\n",
              "      <th>0</th>\n",
              "    </tr>\n",
              "  </thead>\n",
              "  <tbody>\n",
              "    <tr>\n",
              "      <th>Health_service_usage</th>\n",
              "      <td>17.695303</td>\n",
              "    </tr>\n",
              "    <tr>\n",
              "      <th>num_lab_procedures</th>\n",
              "      <td>10.236801</td>\n",
              "    </tr>\n",
              "    <tr>\n",
              "      <th>num_medications</th>\n",
              "      <td>10.165034</td>\n",
              "    </tr>\n",
              "    <tr>\n",
              "      <th>number_diagnoses</th>\n",
              "      <td>8.178431</td>\n",
              "    </tr>\n",
              "    <tr>\n",
              "      <th>age</th>\n",
              "      <td>8.009707</td>\n",
              "    </tr>\n",
              "    <tr>\n",
              "      <th>admission_source_id</th>\n",
              "      <td>7.636326</td>\n",
              "    </tr>\n",
              "    <tr>\n",
              "      <th>time_in_hospital</th>\n",
              "      <td>6.041688</td>\n",
              "    </tr>\n",
              "    <tr>\n",
              "      <th>diag_1</th>\n",
              "      <td>4.914361</td>\n",
              "    </tr>\n",
              "    <tr>\n",
              "      <th>num_procedures</th>\n",
              "      <td>4.748320</td>\n",
              "    </tr>\n",
              "    <tr>\n",
              "      <th>diag_3</th>\n",
              "      <td>4.367795</td>\n",
              "    </tr>\n",
              "    <tr>\n",
              "      <th>admission_type_id</th>\n",
              "      <td>4.169909</td>\n",
              "    </tr>\n",
              "    <tr>\n",
              "      <th>discharge_disposition_id</th>\n",
              "      <td>3.796903</td>\n",
              "    </tr>\n",
              "    <tr>\n",
              "      <th>diag_2</th>\n",
              "      <td>3.138625</td>\n",
              "    </tr>\n",
              "    <tr>\n",
              "      <th>diabetesMed</th>\n",
              "      <td>2.093192</td>\n",
              "    </tr>\n",
              "    <tr>\n",
              "      <th>A1Cresult</th>\n",
              "      <td>2.038705</td>\n",
              "    </tr>\n",
              "    <tr>\n",
              "      <th>change</th>\n",
              "      <td>1.413482</td>\n",
              "    </tr>\n",
              "    <tr>\n",
              "      <th>max_glu_serum</th>\n",
              "      <td>1.355419</td>\n",
              "    </tr>\n",
              "  </tbody>\n",
              "</table>\n",
              "</div>\n",
              "      <button class=\"colab-df-convert\" onclick=\"convertToInteractive('df-3aaec110-5cd0-44ac-8ac7-dffeb1516385')\"\n",
              "              title=\"Convert this dataframe to an interactive table.\"\n",
              "              style=\"display:none;\">\n",
              "        \n",
              "  <svg xmlns=\"http://www.w3.org/2000/svg\" height=\"24px\"viewBox=\"0 0 24 24\"\n",
              "       width=\"24px\">\n",
              "    <path d=\"M0 0h24v24H0V0z\" fill=\"none\"/>\n",
              "    <path d=\"M18.56 5.44l.94 2.06.94-2.06 2.06-.94-2.06-.94-.94-2.06-.94 2.06-2.06.94zm-11 1L8.5 8.5l.94-2.06 2.06-.94-2.06-.94L8.5 2.5l-.94 2.06-2.06.94zm10 10l.94 2.06.94-2.06 2.06-.94-2.06-.94-.94-2.06-.94 2.06-2.06.94z\"/><path d=\"M17.41 7.96l-1.37-1.37c-.4-.4-.92-.59-1.43-.59-.52 0-1.04.2-1.43.59L10.3 9.45l-7.72 7.72c-.78.78-.78 2.05 0 2.83L4 21.41c.39.39.9.59 1.41.59.51 0 1.02-.2 1.41-.59l7.78-7.78 2.81-2.81c.8-.78.8-2.07 0-2.86zM5.41 20L4 18.59l7.72-7.72 1.47 1.35L5.41 20z\"/>\n",
              "  </svg>\n",
              "      </button>\n",
              "      \n",
              "  <style>\n",
              "    .colab-df-container {\n",
              "      display:flex;\n",
              "      flex-wrap:wrap;\n",
              "      gap: 12px;\n",
              "    }\n",
              "\n",
              "    .colab-df-convert {\n",
              "      background-color: #E8F0FE;\n",
              "      border: none;\n",
              "      border-radius: 50%;\n",
              "      cursor: pointer;\n",
              "      display: none;\n",
              "      fill: #1967D2;\n",
              "      height: 32px;\n",
              "      padding: 0 0 0 0;\n",
              "      width: 32px;\n",
              "    }\n",
              "\n",
              "    .colab-df-convert:hover {\n",
              "      background-color: #E2EBFA;\n",
              "      box-shadow: 0px 1px 2px rgba(60, 64, 67, 0.3), 0px 1px 3px 1px rgba(60, 64, 67, 0.15);\n",
              "      fill: #174EA6;\n",
              "    }\n",
              "\n",
              "    [theme=dark] .colab-df-convert {\n",
              "      background-color: #3B4455;\n",
              "      fill: #D2E3FC;\n",
              "    }\n",
              "\n",
              "    [theme=dark] .colab-df-convert:hover {\n",
              "      background-color: #434B5C;\n",
              "      box-shadow: 0px 1px 3px 1px rgba(0, 0, 0, 0.15);\n",
              "      filter: drop-shadow(0px 1px 2px rgba(0, 0, 0, 0.3));\n",
              "      fill: #FFFFFF;\n",
              "    }\n",
              "  </style>\n",
              "\n",
              "      <script>\n",
              "        const buttonEl =\n",
              "          document.querySelector('#df-3aaec110-5cd0-44ac-8ac7-dffeb1516385 button.colab-df-convert');\n",
              "        buttonEl.style.display =\n",
              "          google.colab.kernel.accessAllowed ? 'block' : 'none';\n",
              "\n",
              "        async function convertToInteractive(key) {\n",
              "          const element = document.querySelector('#df-3aaec110-5cd0-44ac-8ac7-dffeb1516385');\n",
              "          const dataTable =\n",
              "            await google.colab.kernel.invokeFunction('convertToInteractive',\n",
              "                                                     [key], {});\n",
              "          if (!dataTable) return;\n",
              "\n",
              "          const docLinkHtml = 'Like what you see? Visit the ' +\n",
              "            '<a target=\"_blank\" href=https://colab.research.google.com/notebooks/data_table.ipynb>data table notebook</a>'\n",
              "            + ' to learn more about interactive tables.';\n",
              "          element.innerHTML = '';\n",
              "          dataTable['output_type'] = 'display_data';\n",
              "          await google.colab.output.renderOutput(dataTable, element);\n",
              "          const docLink = document.createElement('div');\n",
              "          docLink.innerHTML = docLinkHtml;\n",
              "          element.appendChild(docLink);\n",
              "        }\n",
              "      </script>\n",
              "    </div>\n",
              "  </div>\n",
              "  "
            ]
          },
          "metadata": {},
          "execution_count": 71
        }
      ]
    }
  ]
}